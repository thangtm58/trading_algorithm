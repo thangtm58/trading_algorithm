{
 "cells": [
  {
   "cell_type": "code",
   "execution_count": 5,
   "id": "45554168-0fd8-4804-a9fb-69aeb3d3f467",
   "metadata": {},
   "outputs": [
    {
     "name": "stdout",
     "output_type": "stream",
     "text": [
      "🔍 AccessToken response: {'message': 'Success', 'status': 200, 'data': {'accessToken': 'eyJhbGciOiJSUzI1NiIsInR5cCI6IkpXVCJ9.ewogICJhdWQiOiAiYzQ4MzJhNDhhMGY5NDMzZDgyNjZhY2VlN2Q1YWQ2Y2YiLAogICJpYXQiOiAxNzQ1NTg3NDEzLAogICJleHAiOiAxNzQ1NjE2MjEzLAogICJzY29wZSI6IHsKICAgICJJcCI6IHsKICAgICAgIklwQWRyZXNzIjogIiIsCiAgICAgICJJc1ZhbGlkIjogdHJ1ZQogICAgfSwKICAgICJUYXJnZXQiOiBbCiAgICAgIHsKICAgICAgICAiVGFyZ2V0SWQiOiAiMGMyZTRhN2JlZDYxNDdiMzllZTdmM2UyZTcyNGNiMzIiLAogICAgICAgICJUYXJnZXRVcmwiOiAiaHR0cHM6Ly9mYy10cmFkZWFwaS5zc2kuY29tLnZuIiwKICAgICAgICAiQ29ubmVjdGlvbk5hbWUiOiAiRkNUcmFkaW5nIgogICAgICB9LAogICAgICB7CiAgICAgICAgIlRhcmdldElkIjogIjVkMWI4OWNiZDc3YTQ1ZTQ5MzkyOWFhMTZlZWM5N2M1IiwKICAgICAgICAiVGFyZ2V0VXJsIjogImh0dHBzOi8vZmMtZGF0YS5zc2kuY29tLnZuIiwKICAgICAgICAiQ29ubmVjdGlvbk5hbWUiOiAiRkNEYXRhIgogICAgICB9CiAgICBdCiAgfSwKICAiY2xpIjogIlVzZXJBcHBRMzE1MTUiLAogICJzdWIiOiAiUTMxNTE1Igp9.A-U4VSVqH-3Gqwwnst2OCgppUEOs7U8KfbxvL1Q_I5PFCdY5LQkPc5P5SfYpfOaaauwEcNQHiUduCey4CJjDmASrAtdNvvWCOSpLzVgJ4NEi7TtPlPiD2wGZXFHgz2dPpDK8a2Igl19YWZACCQXqkBzSjA8j6sp1SF4GOdrtgfYTh2bAzccigV4mpX_N5FgJ-drBSJacItuchyZHdIzAGNbDL1lZ3ugCAFOARuyUDIt-H6oY6kOdoy4sOjUBVjJqBzJtHURBb9aU75EHYbl-lx0qooUoSsafro_f5Fh8Rakg3FbSrpYX0Qmca_dpTjJGprNo31CSJY8VSpqy5KtN9g'}}\n"
     ]
    },
    {
     "ename": "ValueError",
     "evalue": "(\"'token' not found in response:\", {'message': 'Success', 'status': 200, 'data': {'accessToken': 'eyJhbGciOiJSUzI1NiIsInR5cCI6IkpXVCJ9.ewogICJhdWQiOiAiYzQ4MzJhNDhhMGY5NDMzZDgyNjZhY2VlN2Q1YWQ2Y2YiLAogICJpYXQiOiAxNzQ1NTg3NDEzLAogICJleHAiOiAxNzQ1NjE2MjEzLAogICJzY29wZSI6IHsKICAgICJJcCI6IHsKICAgICAgIklwQWRyZXNzIjogIiIsCiAgICAgICJJc1ZhbGlkIjogdHJ1ZQogICAgfSwKICAgICJUYXJnZXQiOiBbCiAgICAgIHsKICAgICAgICAiVGFyZ2V0SWQiOiAiMGMyZTRhN2JlZDYxNDdiMzllZTdmM2UyZTcyNGNiMzIiLAogICAgICAgICJUYXJnZXRVcmwiOiAiaHR0cHM6Ly9mYy10cmFkZWFwaS5zc2kuY29tLnZuIiwKICAgICAgICAiQ29ubmVjdGlvbk5hbWUiOiAiRkNUcmFkaW5nIgogICAgICB9LAogICAgICB7CiAgICAgICAgIlRhcmdldElkIjogIjVkMWI4OWNiZDc3YTQ1ZTQ5MzkyOWFhMTZlZWM5N2M1IiwKICAgICAgICAiVGFyZ2V0VXJsIjogImh0dHBzOi8vZmMtZGF0YS5zc2kuY29tLnZuIiwKICAgICAgICAiQ29ubmVjdGlvbk5hbWUiOiAiRkNEYXRhIgogICAgICB9CiAgICBdCiAgfSwKICAiY2xpIjogIlVzZXJBcHBRMzE1MTUiLAogICJzdWIiOiAiUTMxNTE1Igp9.A-U4VSVqH-3Gqwwnst2OCgppUEOs7U8KfbxvL1Q_I5PFCdY5LQkPc5P5SfYpfOaaauwEcNQHiUduCey4CJjDmASrAtdNvvWCOSpLzVgJ4NEi7TtPlPiD2wGZXFHgz2dPpDK8a2Igl19YWZACCQXqkBzSjA8j6sp1SF4GOdrtgfYTh2bAzccigV4mpX_N5FgJ-drBSJacItuchyZHdIzAGNbDL1lZ3ugCAFOARuyUDIt-H6oY6kOdoy4sOjUBVjJqBzJtHURBb9aU75EHYbl-lx0qooUoSsafro_f5Fh8Rakg3FbSrpYX0Qmca_dpTjJGprNo31CSJY8VSpqy5KtN9g'}})",
     "output_type": "error",
     "traceback": [
      "\u001b[31m---------------------------------------------------------------------------\u001b[39m",
      "\u001b[31mValueError\u001b[39m                                Traceback (most recent call last)",
      "\u001b[36mCell\u001b[39m\u001b[36m \u001b[39m\u001b[32mIn[5]\u001b[39m\u001b[32m, line 51\u001b[39m\n\u001b[32m     49\u001b[39m \u001b[38;5;66;03m# Run\u001b[39;00m\n\u001b[32m     50\u001b[39m \u001b[38;5;28;01mif\u001b[39;00m \u001b[34m__name__\u001b[39m == \u001b[33m\"\u001b[39m\u001b[33m__main__\u001b[39m\u001b[33m\"\u001b[39m:\n\u001b[32m---> \u001b[39m\u001b[32m51\u001b[39m     token = \u001b[43mget_access_token\u001b[49m\u001b[43m(\u001b[49m\u001b[43mconsumer_id\u001b[49m\u001b[43m,\u001b[49m\u001b[43m \u001b[49m\u001b[43mconsumer_secret\u001b[49m\u001b[43m,\u001b[49m\u001b[43m \u001b[49m\u001b[43mprivate_key\u001b[49m\u001b[43m)\u001b[49m\n\u001b[32m     52\u001b[39m     data = get_stock_price(\u001b[33m\"\u001b[39m\u001b[33mVCB\u001b[39m\u001b[33m\"\u001b[39m, token)\n\u001b[32m     53\u001b[39m     \u001b[38;5;28mprint\u001b[39m(\u001b[33m\"\u001b[39m\u001b[33mVCB:\u001b[39m\u001b[33m\"\u001b[39m, data)\n",
      "\u001b[36mCell\u001b[39m\u001b[36m \u001b[39m\u001b[32mIn[5]\u001b[39m\u001b[32m, line 26\u001b[39m, in \u001b[36mget_access_token\u001b[39m\u001b[34m(consumer_id, consumer_secret, private_key)\u001b[39m\n\u001b[32m     24\u001b[39m response = res.json()\n\u001b[32m     25\u001b[39m \u001b[38;5;28;01mif\u001b[39;00m \u001b[33m\"\u001b[39m\u001b[33mtoken\u001b[39m\u001b[33m\"\u001b[39m \u001b[38;5;129;01mnot\u001b[39;00m \u001b[38;5;129;01min\u001b[39;00m response:\n\u001b[32m---> \u001b[39m\u001b[32m26\u001b[39m     \u001b[38;5;28;01mraise\u001b[39;00m \u001b[38;5;167;01mValueError\u001b[39;00m(\u001b[33m\"\u001b[39m\u001b[33m'\u001b[39m\u001b[33mtoken\u001b[39m\u001b[33m'\u001b[39m\u001b[33m not found in response:\u001b[39m\u001b[33m\"\u001b[39m, response)\n\u001b[32m     27\u001b[39m \u001b[38;5;28;01mreturn\u001b[39;00m response[\u001b[33m\"\u001b[39m\u001b[33mtoken\u001b[39m\u001b[33m\"\u001b[39m]\n",
      "\u001b[31mValueError\u001b[39m: (\"'token' not found in response:\", {'message': 'Success', 'status': 200, 'data': {'accessToken': 'eyJhbGciOiJSUzI1NiIsInR5cCI6IkpXVCJ9.ewogICJhdWQiOiAiYzQ4MzJhNDhhMGY5NDMzZDgyNjZhY2VlN2Q1YWQ2Y2YiLAogICJpYXQiOiAxNzQ1NTg3NDEzLAogICJleHAiOiAxNzQ1NjE2MjEzLAogICJzY29wZSI6IHsKICAgICJJcCI6IHsKICAgICAgIklwQWRyZXNzIjogIiIsCiAgICAgICJJc1ZhbGlkIjogdHJ1ZQogICAgfSwKICAgICJUYXJnZXQiOiBbCiAgICAgIHsKICAgICAgICAiVGFyZ2V0SWQiOiAiMGMyZTRhN2JlZDYxNDdiMzllZTdmM2UyZTcyNGNiMzIiLAogICAgICAgICJUYXJnZXRVcmwiOiAiaHR0cHM6Ly9mYy10cmFkZWFwaS5zc2kuY29tLnZuIiwKICAgICAgICAiQ29ubmVjdGlvbk5hbWUiOiAiRkNUcmFkaW5nIgogICAgICB9LAogICAgICB7CiAgICAgICAgIlRhcmdldElkIjogIjVkMWI4OWNiZDc3YTQ1ZTQ5MzkyOWFhMTZlZWM5N2M1IiwKICAgICAgICAiVGFyZ2V0VXJsIjogImh0dHBzOi8vZmMtZGF0YS5zc2kuY29tLnZuIiwKICAgICAgICAiQ29ubmVjdGlvbk5hbWUiOiAiRkNEYXRhIgogICAgICB9CiAgICBdCiAgfSwKICAiY2xpIjogIlVzZXJBcHBRMzE1MTUiLAogICJzdWIiOiAiUTMxNTE1Igp9.A-U4VSVqH-3Gqwwnst2OCgppUEOs7U8KfbxvL1Q_I5PFCdY5LQkPc5P5SfYpfOaaauwEcNQHiUduCey4CJjDmASrAtdNvvWCOSpLzVgJ4NEi7TtPlPiD2wGZXFHgz2dPpDK8a2Igl19YWZACCQXqkBzSjA8j6sp1SF4GOdrtgfYTh2bAzccigV4mpX_N5FgJ-drBSJacItuchyZHdIzAGNbDL1lZ3ugCAFOARuyUDIt-H6oY6kOdoy4sOjUBVjJqBzJtHURBb9aU75EHYbl-lx0qooUoSsafro_f5Fh8Rakg3FbSrpYX0Qmca_dpTjJGprNo31CSJY8VSpqy5KtN9g'}})"
     ]
    }
   ],
   "source": [
    "import configparser\n",
    "import requests\n",
    "\n",
    "# Load credentials from config file\n",
    "config = configparser.ConfigParser()\n",
    "config.read('pyalgo.cfg')\n",
    "\n",
    "consumer_id = config['ssi']['ConsumerID']\n",
    "consumer_secret = config['ssi']['ConsumerSecret']\n",
    "private_key = config['ssi']['PrivateKey']\n",
    "\n",
    "# Step 1: Request access token\n",
    "def get_access_token(consumer_id, consumer_secret, private_key):\n",
    "    url = \"https://fc-data.ssi.com.vn/api/v2/Market/AccessToken\"\n",
    "    headers = {\"Content-Type\": \"application/json\"}\n",
    "    data = {\n",
    "        \"consumerID\": consumer_id,\n",
    "        \"consumerSecret\": consumer_secret,\n",
    "        \"privateKey\": private_key\n",
    "    }\n",
    "    res = requests.post(url, json=data, headers=headers)\n",
    "    res.raise_for_status()\n",
    "    response = res.json()\n",
    "\n",
    "    # Extract access token from response\n",
    "    if \"data\" in response and \"accessToken\" in response[\"data\"]:\n",
    "        return response[\"data\"][\"accessToken\"]\n",
    "    else:\n",
    "        raise ValueError(\"Access token not found in response:\", response)\n",
    "\n",
    "# Step 2: Get stock price using access token\n",
    "def get_stock_price(symbol, token):\n",
    "    url = \"https://fc-data.ssi.com.vn/api/v2/Market/DailyStockPrice\"\n",
    "    headers = {\n",
    "        \"Authorization\": f\"Bearer {token}\",\n",
    "        \"Accept\": \"application/json\"\n",
    "    }\n",
    "    params = {\n",
    "        \"Symbol\": symbol,\n",
    "        \"FromDate\": \"24/04/2024\",\n",
    "        \"ToDate\": \"24/04/2024\",\n",
    "        \"Market\": \"HOSE\",\n",
    "        \"PageIndex\": \"1\",\n",
    "        \"PageSize\": \"5\"\n",
    "    }\n",
    "    res = requests.get(url, headers=headers, params=params)\n",
    "    res.raise_for_status()\n",
    "    return res.json()\n",
    "\n",
    "# Run the process\n",
    "if __name__ == \"__main__\":\n",
    "    token = get_access_token(consumer_id, consumer_secret, private_key)\n",
    "    data = get_stock_price(\"VCB\", token)\n",
    "    print(data)\n"
   ]
  },
  {
   "cell_type": "code",
   "execution_count": null,
   "id": "10041813-7567-4607-8374-2ad25db7839b",
   "metadata": {},
   "outputs": [],
   "source": []
  }
 ],
 "metadata": {
  "kernelspec": {
   "display_name": "Python 3 (ipykernel)",
   "language": "python",
   "name": "python3"
  },
  "language_info": {
   "codemirror_mode": {
    "name": "ipython",
    "version": 3
   },
   "file_extension": ".py",
   "mimetype": "text/x-python",
   "name": "python",
   "nbconvert_exporter": "python",
   "pygments_lexer": "ipython3",
   "version": "3.12.9"
  }
 },
 "nbformat": 4,
 "nbformat_minor": 5
}

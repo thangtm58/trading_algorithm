{
 "cells": [
  {
   "cell_type": "code",
   "execution_count": 2,
   "id": "0c934896-a6c7-43a8-9633-e31d54412d67",
   "metadata": {},
   "outputs": [],
   "source": [
    "import pandas as pd\n",
    "import numpy as np\n",
    "import configparser\n",
    "import requests\n",
    "import matplotlib.pyplot as plt\n",
    "import plotly.graph_objects as go\n",
    "from datetime import datetime, timedelta\n",
    "import time\n",
    "import pmdarima as pm"
   ]
  },
  {
   "cell_type": "code",
   "execution_count": 4,
   "id": "96036d90-73e2-499f-9d5f-ffe959220b8c",
   "metadata": {},
   "outputs": [],
   "source": [
    "# Load credentials from config file\n",
    "config = configparser.ConfigParser()\n",
    "config.read('pyalgo.cfg')\n",
    "\n",
    "consumer_id = config['ssi']['ConsumerID']\n",
    "consumer_secret = config['ssi']['ConsumerSecret']\n",
    "private_key = config['ssi']['PrivateKey']"
   ]
  },
  {
   "cell_type": "code",
   "execution_count": 5,
   "id": "45554168-0fd8-4804-a9fb-69aeb3d3f467",
   "metadata": {},
   "outputs": [],
   "source": [
    "# Step 1: Request access token\n",
    "def get_access_token(consumer_id, consumer_secret, private_key):\n",
    "    url = \"https://fc-data.ssi.com.vn/api/v2/Market/AccessToken\"\n",
    "    headers = {\"Content-Type\": \"application/json\"}\n",
    "    data = {\n",
    "        \"consumerID\": consumer_id,\n",
    "        \"consumerSecret\": consumer_secret,\n",
    "        \"privateKey\": private_key\n",
    "    }\n",
    "    res = requests.post(url, json=data, headers=headers)\n",
    "    res.raise_for_status()\n",
    "    response = res.json()\n",
    "\n",
    "    # Extract access token from response\n",
    "    if \"data\" in response and \"accessToken\" in response[\"data\"]:\n",
    "        return response[\"data\"][\"accessToken\"]\n",
    "    else:\n",
    "        raise ValueError(\"Access token not found in response:\", response)\n",
    "\n",
    "# Step 2: Get stock price using access token\n",
    "def get_stock_price(symbol, token, start_date, end_date):\n",
    "    url = \"https://fc-data.ssi.com.vn/api/v2/Market/DailyStockPrice\"\n",
    "    headers = {\n",
    "        \"Authorization\": f\"Bearer {token}\",\n",
    "        \"Accept\": \"application/json\"\n",
    "    }\n",
    "    params = {\n",
    "        \"Symbol\": symbol,\n",
    "        \"FromDate\": start_date,\n",
    "        \"ToDate\": end_date,\n",
    "        \"Market\": \"HOSE\",\n",
    "        \"PageIndex\": \"1\",\n",
    "        \"PageSize\": \"50\"\n",
    "    }\n",
    "    res = requests.get(url, headers=headers, params=params)\n",
    "    res.raise_for_status()\n",
    "    return res.json()"
   ]
  },
  {
   "cell_type": "code",
   "execution_count": 6,
   "id": "1511ccf9-247c-4726-963b-dc69931ddc60",
   "metadata": {},
   "outputs": [
    {
     "ename": "HTTPError",
     "evalue": "405 Client Error: Not Allowed for url: https://fc-data.ssi.com.vn/api/v2/Market/AccessToken",
     "output_type": "error",
     "traceback": [
      "\u001b[31m---------------------------------------------------------------------------\u001b[39m",
      "\u001b[31mHTTPError\u001b[39m                                 Traceback (most recent call last)",
      "\u001b[36mCell\u001b[39m\u001b[36m \u001b[39m\u001b[32mIn[6]\u001b[39m\u001b[32m, line 2\u001b[39m\n\u001b[32m      1\u001b[39m \u001b[38;5;66;03m# Define token\u001b[39;00m\n\u001b[32m----> \u001b[39m\u001b[32m2\u001b[39m token = \u001b[43mget_access_token\u001b[49m\u001b[43m(\u001b[49m\u001b[43mconsumer_id\u001b[49m\u001b[43m,\u001b[49m\u001b[43m \u001b[49m\u001b[43mconsumer_secret\u001b[49m\u001b[43m,\u001b[49m\u001b[43m \u001b[49m\u001b[43mprivate_key\u001b[49m\u001b[43m)\u001b[49m\n",
      "\u001b[36mCell\u001b[39m\u001b[36m \u001b[39m\u001b[32mIn[5]\u001b[39m\u001b[32m, line 11\u001b[39m, in \u001b[36mget_access_token\u001b[39m\u001b[34m(consumer_id, consumer_secret, private_key)\u001b[39m\n\u001b[32m      5\u001b[39m data = {\n\u001b[32m      6\u001b[39m     \u001b[33m\"\u001b[39m\u001b[33mconsumerID\u001b[39m\u001b[33m\"\u001b[39m: consumer_id,\n\u001b[32m      7\u001b[39m     \u001b[33m\"\u001b[39m\u001b[33mconsumerSecret\u001b[39m\u001b[33m\"\u001b[39m: consumer_secret,\n\u001b[32m      8\u001b[39m     \u001b[33m\"\u001b[39m\u001b[33mprivateKey\u001b[39m\u001b[33m\"\u001b[39m: private_key\n\u001b[32m      9\u001b[39m }\n\u001b[32m     10\u001b[39m res = requests.post(url, json=data, headers=headers)\n\u001b[32m---> \u001b[39m\u001b[32m11\u001b[39m \u001b[43mres\u001b[49m\u001b[43m.\u001b[49m\u001b[43mraise_for_status\u001b[49m\u001b[43m(\u001b[49m\u001b[43m)\u001b[49m\n\u001b[32m     12\u001b[39m response = res.json()\n\u001b[32m     14\u001b[39m \u001b[38;5;66;03m# Extract access token from response\u001b[39;00m\n",
      "\u001b[36mFile \u001b[39m\u001b[32m~/miniconda3/lib/python3.12/site-packages/requests/models.py:1024\u001b[39m, in \u001b[36mResponse.raise_for_status\u001b[39m\u001b[34m(self)\u001b[39m\n\u001b[32m   1019\u001b[39m     http_error_msg = (\n\u001b[32m   1020\u001b[39m         \u001b[33mf\u001b[39m\u001b[33m\"\u001b[39m\u001b[38;5;132;01m{\u001b[39;00m\u001b[38;5;28mself\u001b[39m.status_code\u001b[38;5;132;01m}\u001b[39;00m\u001b[33m Server Error: \u001b[39m\u001b[38;5;132;01m{\u001b[39;00mreason\u001b[38;5;132;01m}\u001b[39;00m\u001b[33m for url: \u001b[39m\u001b[38;5;132;01m{\u001b[39;00m\u001b[38;5;28mself\u001b[39m.url\u001b[38;5;132;01m}\u001b[39;00m\u001b[33m\"\u001b[39m\n\u001b[32m   1021\u001b[39m     )\n\u001b[32m   1023\u001b[39m \u001b[38;5;28;01mif\u001b[39;00m http_error_msg:\n\u001b[32m-> \u001b[39m\u001b[32m1024\u001b[39m     \u001b[38;5;28;01mraise\u001b[39;00m HTTPError(http_error_msg, response=\u001b[38;5;28mself\u001b[39m)\n",
      "\u001b[31mHTTPError\u001b[39m: 405 Client Error: Not Allowed for url: https://fc-data.ssi.com.vn/api/v2/Market/AccessToken"
     ]
    }
   ],
   "source": [
    "# Define token\n",
    "token = get_access_token(consumer_id, consumer_secret, private_key)"
   ]
  },
  {
   "cell_type": "code",
   "execution_count": null,
   "id": "d2a86ee8-ccd0-4069-bf74-49a0353c6959",
   "metadata": {},
   "outputs": [],
   "source": [
    "stock = pd.DataFrame(columns=['TradingDate', 'ClosePrice'])"
   ]
  },
  {
   "cell_type": "markdown",
   "id": "3b5e3619-86eb-41b0-9b55-46079dff153b",
   "metadata": {},
   "source": [
    "# Historical data"
   ]
  },
  {
   "cell_type": "code",
   "execution_count": null,
   "id": "15e6bc66-47f2-4532-93be-e50892f4a6ee",
   "metadata": {},
   "outputs": [],
   "source": [
    "symb = 'GAS'\n",
    "date = datetime.today()\n",
    "\n",
    "for i in range(20):\n",
    "    end_date = date.strftime(\"%d/%m/%Y\")\n",
    "    start_date = (date - timedelta(days=30)).strftime(\"%d/%m/%Y\")\n",
    "    data = get_stock_price(symb, token, start_date, end_date)\n",
    "    df = pd.DataFrame(data['data'])\n",
    "\n",
    "    # Ensure correct types\n",
    "    df['TradingDate'] = pd.to_datetime(df['TradingDate'], dayfirst=True)\n",
    "    df['ClosePrice'] = pd.to_numeric(df['ClosePrice'], errors='coerce')\n",
    "    \n",
    "    df1 = df.loc[df['Symbol'] == symb, ['TradingDate', 'ClosePrice']]\n",
    "\n",
    "    # Append to master DataFrame\n",
    "    stock = pd.concat([stock, df1], ignore_index=True)\n",
    "\n",
    "    # Adjust date back\n",
    "    date -= timedelta(days=31)\n",
    "\n",
    "    # Wait before the next request to respect rate limit\n",
    "    time.sleep(3)  "
   ]
  },
  {
   "cell_type": "code",
   "execution_count": null,
   "id": "1a03f6b5-adcb-4537-a30d-34b97b2fbf6f",
   "metadata": {},
   "outputs": [],
   "source": [
    "# Sort by trading date\n",
    "stock = stock.sort_values('TradingDate')\n",
    "\n",
    "# Plot\n",
    "plt.figure(figsize=(10, 5))\n",
    "plt.plot(stock['TradingDate'], stock['ClosePrice'])\n",
    "plt.xlabel('Date')\n",
    "plt.ylabel('Close Price')\n",
    "plt.title(f'{symb} Closing Price Over Time')\n",
    "plt.grid(True)\n",
    "plt.xticks(rotation=45)\n",
    "plt.tight_layout()\n",
    "plt.show()"
   ]
  },
  {
   "cell_type": "code",
   "execution_count": null,
   "id": "df58641b-8b76-4123-a923-feb3806989ab",
   "metadata": {},
   "outputs": [],
   "source": [
    "stock"
   ]
  },
  {
   "cell_type": "markdown",
   "id": "0e00e918-7c15-485c-be06-3c2c39da6e12",
   "metadata": {},
   "source": [
    "# Realtime data"
   ]
  },
  {
   "cell_type": "code",
   "execution_count": null,
   "id": "6d2d3a37-09e1-4b92-a4fb-982d33e62a8f",
   "metadata": {},
   "outputs": [],
   "source": [
    "# Get realtime stock price and info\n",
    "def get_rt_stock_price(symbol, token):\n",
    "    url = \"https://fc-data.ssi.com.vn/api/v2/Market/IntradayOhlc\"\n",
    "    headers = {\n",
    "        \"Authorization\": f\"Bearer {token}\",\n",
    "        \"Accept\": \"application/json\"\n",
    "    }\n",
    "    params = {\n",
    "    \"symbol\": symbol,\n",
    "    \"FromDate\": datetime.today().strftime(\"%d/%m/%Y\"),\n",
    "    \"ToDate\": datetime.today().strftime(\"%d/%m/%Y\"),\n",
    "    \"PageSize\": \"50\"\n",
    "    }\n",
    "    res = requests.get(url, headers=headers, params=params)\n",
    "    res.raise_for_status()\n",
    "    return res.json()"
   ]
  },
  {
   "cell_type": "code",
   "execution_count": null,
   "id": "4a208a67-6e02-4d5c-8c74-b019ff3a2ea2",
   "metadata": {},
   "outputs": [],
   "source": [
    "rt_stock = get_rt_stock_price('GAS', token)"
   ]
  },
  {
   "cell_type": "code",
   "execution_count": null,
   "id": "6d809388-172d-45b1-834c-a74b113c1763",
   "metadata": {},
   "outputs": [],
   "source": [
    "rt_stock = pd.DataFrame(data['data'])\n",
    "rt_stock"
   ]
  },
  {
   "cell_type": "code",
   "execution_count": null,
   "id": "1d1260a8-422e-40b5-b8c4-e04c088723b2",
   "metadata": {},
   "outputs": [],
   "source": [
    "# Plot\n",
    "plt.figure(figsize=(10, 5))\n",
    "plt.plot(rt_stock['Time'], rt_stock['Close'])\n",
    "plt.xlabel('Time')\n",
    "plt.ylabel('Price')\n",
    "plt.title(f'GAS Over Time')\n",
    "plt.grid(True)\n",
    "plt.xticks(rotation=45)\n",
    "plt.tight_layout()\n",
    "plt.show()"
   ]
  },
  {
   "cell_type": "code",
   "execution_count": null,
   "id": "493f053a-c47a-401a-b922-352973890f4b",
   "metadata": {},
   "outputs": [],
   "source": [
    "t = None\n",
    "while True:\n",
    "    rt = get_rt_stock_price('GAS', token)\n",
    "    if t == None or rt['data'][0]['Time'] != t:\n",
    "        print(rt['data'][0])\n",
    "    t = rt['data'][0]['Time']\n",
    "    time.sleep(2)"
   ]
  },
  {
   "cell_type": "code",
   "execution_count": null,
   "id": "4bde4bf1-d9da-4c8d-9ca5-80a83835c571",
   "metadata": {},
   "outputs": [],
   "source": [
    "fig = go.FigureWidget()\n",
    "fig.add_scatter()\n",
    "fig"
   ]
  },
  {
   "cell_type": "code",
   "execution_count": null,
   "id": "bf384305-ba60-4f80-bd16-cbb5e2cf19fc",
   "metadata": {},
   "outputs": [],
   "source": [
    "times = list()\n",
    "prices = list()\n",
    "\n",
    "for _ in range(75):\n",
    "    rt = get_rt_stock_price('GAS', token)\n",
    "    t = rt['data'][0]['Time']\n",
    "    times.append(t)  \n",
    "    price = rt['data'][0]['Close']\n",
    "    prices.append(int(price))\n",
    "    fig.data[0].x = times  \n",
    "    fig.data[0].y = prices  \n",
    "    time.sleep(2)"
   ]
  },
  {
   "cell_type": "code",
   "execution_count": 8,
   "id": "df53eb68-77a2-41e6-9618-ef0e26542da5",
   "metadata": {},
   "outputs": [
    {
     "data": {
      "text/html": [
       "<!DOCTYPE html>\n",
       "<html lang=\"vi\">\n",
       "<head>\n",
       "  <meta charset=\"UTF-8\">\n",
       "  <meta name=\"viewport\" content=\"width=device-width, initial-scale=1\">\n",
       "  <title>Vnstock – Còn 200 ⭐ nữa thôi!</title>\n",
       "  <style>\n",
       "    :root {\n",
       "      --primary: #4CAF50;\n",
       "      --hover:   #8C52FF;\n",
       "      --bg:      #ffffff;\n",
       "      --text:    #333333;\n",
       "    }\n",
       "    * { box-sizing: border-box; }\n",
       "    body {\n",
       "      margin: 0;\n",
       "      padding: 0;\n",
       "      font-family: 'Segoe UI', sans-serif;\n",
       "      background: var(--bg);\n",
       "      color: var(--text);\n",
       "      display: flex;\n",
       "      justify-content: center;\n",
       "      align-items: center;\n",
       "      min-height: 100vh;\n",
       "    }\n",
       "    .ad {\n",
       "      max-width: 360px;\n",
       "      width: 100%;\n",
       "      border: 1px solid #e0e0e0;\n",
       "      border-radius: 8px;\n",
       "      padding: 20px;\n",
       "      box-shadow: 0 4px 12px rgba(0,0,0,0.05);\n",
       "      text-align: center;\n",
       "    }\n",
       "    .ad h1 {\n",
       "      font-size: 22px;\n",
       "      margin-bottom: 16px;\n",
       "      line-height: 1.2;\n",
       "    }\n",
       "    .progress {\n",
       "      background: #f0f0f0;\n",
       "      border-radius: 10px;\n",
       "      overflow: hidden;\n",
       "      height: 12px;\n",
       "      margin-bottom: 8px;\n",
       "    }\n",
       "    .progress .fill {\n",
       "      width: 0;\n",
       "      height: 100%;\n",
       "      background: var(--primary);\n",
       "      transition: width 1s ease-out;\n",
       "    }\n",
       "    .progress-text {\n",
       "      font-size: 12px;\n",
       "      color: #666;\n",
       "      margin-bottom: 20px;\n",
       "    }\n",
       "    .description {\n",
       "      font-size: 14px;\n",
       "      line-height: 1.5;\n",
       "      color: #444;\n",
       "      margin-bottom: 24px;\n",
       "      text-align: left;\n",
       "    }\n",
       "    .btn {\n",
       "      display: inline-block;\n",
       "      padding: 10px 20px;\n",
       "      background: var(--primary);\n",
       "      color: #fff;\n",
       "      text-decoration: none;\n",
       "      font-weight: bold;\n",
       "      border-radius: 20px;\n",
       "      transition: background 0.3s;\n",
       "    }\n",
       "    .btn:hover {\n",
       "      background: var(--hover);\n",
       "    }\n",
       "  </style>\n",
       "</head>\n",
       "<body>\n",
       "  <div class=\"ad\">\n",
       "    <h1 id=\"ad-title\">Giúp Vnstock đạt <strong>1.000 ⭐</strong></h1>\n",
       "\n",
       "    <div class=\"progress\">\n",
       "      <div class=\"fill\"></div>\n",
       "    </div>\n",
       "    <div class=\"progress-text\">– / 1000 ⭐</div>\n",
       "\n",
       "    <p class=\"description\">\n",
       "      Mỗi ⭐ của bạn tiếp sức cho Vnstock phát triển nhanh hơn, mạnh mẽ hơn và duy trì nguồn mở.\n",
       "    </p>\n",
       "\n",
       "    <a href=\"https://github.com/thinh-vu/vnstock\" target=\"_blank\" class=\"btn\">\n",
       "      ⭐ Thả Star Ngay!\n",
       "    </a>\n",
       "  </div>\n",
       "\n",
       "  <script>\n",
       "    document.addEventListener('DOMContentLoaded', () => {\n",
       "      fetch('https://api.github.com/repos/thinh-vu/vnstock')\n",
       "        .then(res => res.json())\n",
       "        .then(data => {\n",
       "          const count = data.stargazers_count || 0;\n",
       "          const left  = Math.max(1000 - count, 0);\n",
       "          const pct   = Math.min((count / 1000) * 100, 100);\n",
       "\n",
       "          document.querySelector('.progress .fill').style.width = pct + '%';\n",
       "          document.querySelector('.progress-text').textContent = `${count} / 1000 ⭐`;\n",
       "          document.getElementById('starsLeft').textContent = left;\n",
       "        })\n",
       "        .catch(err => {\n",
       "          // Fallback values\n",
       "          document.querySelector('.progress .fill').style.width = '80%';\n",
       "          document.querySelector('.progress-text').textContent = '800 / 1000 ⭐';\n",
       "          document.getElementById('starsLeft').textContent = 200;\n",
       "        });\n",
       "    });\n",
       "  </script>\n",
       "</body>\n",
       "</html>\n"
      ],
      "text/plain": [
       "<IPython.core.display.HTML object>"
      ]
     },
     "metadata": {},
     "output_type": "display_data"
    },
    {
     "data": {
      "text/html": [
       "<div>\n",
       "<style scoped>\n",
       "    .dataframe tbody tr th:only-of-type {\n",
       "        vertical-align: middle;\n",
       "    }\n",
       "\n",
       "    .dataframe tbody tr th {\n",
       "        vertical-align: top;\n",
       "    }\n",
       "\n",
       "    .dataframe thead th {\n",
       "        text-align: right;\n",
       "    }\n",
       "</style>\n",
       "<table border=\"1\" class=\"dataframe\">\n",
       "  <thead>\n",
       "    <tr style=\"text-align: right;\">\n",
       "      <th></th>\n",
       "      <th>time</th>\n",
       "      <th>open</th>\n",
       "      <th>high</th>\n",
       "      <th>low</th>\n",
       "      <th>close</th>\n",
       "      <th>volume</th>\n",
       "    </tr>\n",
       "  </thead>\n",
       "  <tbody>\n",
       "    <tr>\n",
       "      <th>822</th>\n",
       "      <td>2025-04-24</td>\n",
       "      <td>57.5</td>\n",
       "      <td>58.0</td>\n",
       "      <td>57.3</td>\n",
       "      <td>57.5</td>\n",
       "      <td>410200</td>\n",
       "    </tr>\n",
       "    <tr>\n",
       "      <th>823</th>\n",
       "      <td>2025-04-25</td>\n",
       "      <td>57.6</td>\n",
       "      <td>58.5</td>\n",
       "      <td>57.5</td>\n",
       "      <td>58.5</td>\n",
       "      <td>913600</td>\n",
       "    </tr>\n",
       "    <tr>\n",
       "      <th>824</th>\n",
       "      <td>2025-04-28</td>\n",
       "      <td>58.4</td>\n",
       "      <td>58.5</td>\n",
       "      <td>58.1</td>\n",
       "      <td>58.4</td>\n",
       "      <td>271300</td>\n",
       "    </tr>\n",
       "    <tr>\n",
       "      <th>825</th>\n",
       "      <td>2025-04-29</td>\n",
       "      <td>58.4</td>\n",
       "      <td>58.4</td>\n",
       "      <td>58.2</td>\n",
       "      <td>58.3</td>\n",
       "      <td>310200</td>\n",
       "    </tr>\n",
       "    <tr>\n",
       "      <th>826</th>\n",
       "      <td>2025-05-03</td>\n",
       "      <td>62.3</td>\n",
       "      <td>62.3</td>\n",
       "      <td>62.3</td>\n",
       "      <td>62.3</td>\n",
       "      <td>2210500</td>\n",
       "    </tr>\n",
       "  </tbody>\n",
       "</table>\n",
       "</div>"
      ],
      "text/plain": [
       "          time  open  high   low  close   volume\n",
       "822 2025-04-24  57.5  58.0  57.3   57.5   410200\n",
       "823 2025-04-25  57.6  58.5  57.5   58.5   913600\n",
       "824 2025-04-28  58.4  58.5  58.1   58.4   271300\n",
       "825 2025-04-29  58.4  58.4  58.2   58.3   310200\n",
       "826 2025-05-03  62.3  62.3  62.3   62.3  2210500"
      ]
     },
     "execution_count": 8,
     "metadata": {},
     "output_type": "execute_result"
    }
   ],
   "source": [
    "from vnstock import Vnstock\n",
    "stock = Vnstock().stock(symbol='GAS', source='VCI')\n",
    "stk = stock.quote.history(start='2022-01-01', end='2025-05-28', to_df=True)\n",
    "stk.tail()"
   ]
  },
  {
   "cell_type": "code",
   "execution_count": null,
   "id": "6f9cbeeb-9cff-4fd6-9d7e-fca2c5eafbf4",
   "metadata": {},
   "outputs": [],
   "source": [
    "# Plot\n",
    "plt.figure(figsize=(10, 5))\n",
    "plt.plot(stk['time'], stk['close'])\n",
    "plt.xlabel('Time')\n",
    "plt.ylabel('Price')\n",
    "plt.title(f'GAS Over Time')\n",
    "plt.grid(True)\n",
    "plt.xticks(rotation=45)\n",
    "plt.tight_layout()\n",
    "plt.show()"
   ]
  },
  {
   "cell_type": "markdown",
   "id": "4148a170-2ff8-4322-9c58-9c7a88e80143",
   "metadata": {},
   "source": [
    "# Log return Analysis "
   ]
  },
  {
   "cell_type": "code",
   "execution_count": 9,
   "id": "c86177a0-c5bd-46b9-99f0-22052c3f230a",
   "metadata": {},
   "outputs": [],
   "source": [
    "stk['log_return'] = np.log(stk['close'] / stk['close'].shift(1))"
   ]
  },
  {
   "cell_type": "code",
   "execution_count": 12,
   "id": "fa354a1f-b048-4a8d-8997-b02fd3c6b98f",
   "metadata": {},
   "outputs": [
    {
     "data": {
      "text/plain": [
       "[<matplotlib.lines.Line2D at 0x74db71e3b2c0>]"
      ]
     },
     "execution_count": 12,
     "metadata": {},
     "output_type": "execute_result"
    },
    {
     "data": {
      "image/png": "[encoded data removed]",
      "text/plain": [
       "<Figure size 640x480 with 1 Axes>"
      ]
     },
     "metadata": {},
     "output_type": "display_data"
    }
   ],
   "source": [
    "plt.plot(stk['time'], stk['log_return'])"
   ]
  },
  {
   "cell_type": "code",
   "execution_count": null,
   "id": "9391078c-2a12-4c31-bda9-318e90346e3b",
   "metadata": {},
   "outputs": [],
   "source": []
  },
  {
   "cell_type": "code",
   "execution_count": 27,
   "id": "47fb0f62-de57-4b93-ac3e-05458635d878",
   "metadata": {},
   "outputs": [
    {
     "data": {
      "text/html": [
       "<div>\n",
       "<style scoped>\n",
       "    .dataframe tbody tr th:only-of-type {\n",
       "        vertical-align: middle;\n",
       "    }\n",
       "\n",
       "    .dataframe tbody tr th {\n",
       "        vertical-align: top;\n",
       "    }\n",
       "\n",
       "    .dataframe thead th {\n",
       "        text-align: right;\n",
       "    }\n",
       "</style>\n",
       "<table border=\"1\" class=\"dataframe\">\n",
       "  <thead>\n",
       "    <tr style=\"text-align: right;\">\n",
       "      <th></th>\n",
       "      <th>time</th>\n",
       "      <th>price</th>\n",
       "      <th>volume</th>\n",
       "      <th>match_type</th>\n",
       "      <th>id</th>\n",
       "    </tr>\n",
       "  </thead>\n",
       "  <tbody>\n",
       "    <tr>\n",
       "      <th>80</th>\n",
       "      <td>2025-04-29 14:28:55+07:00</td>\n",
       "      <td>57500.0</td>\n",
       "      <td>2000</td>\n",
       "      <td>Sell</td>\n",
       "      <td>293049440</td>\n",
       "    </tr>\n",
       "    <tr>\n",
       "      <th>81</th>\n",
       "      <td>2025-04-29 14:28:57+07:00</td>\n",
       "      <td>57500.0</td>\n",
       "      <td>2000</td>\n",
       "      <td>Sell</td>\n",
       "      <td>293049557</td>\n",
       "    </tr>\n",
       "    <tr>\n",
       "      <th>82</th>\n",
       "      <td>2025-04-29 14:29:00+07:00</td>\n",
       "      <td>57500.0</td>\n",
       "      <td>2000</td>\n",
       "      <td>Sell</td>\n",
       "      <td>293049649</td>\n",
       "    </tr>\n",
       "    <tr>\n",
       "      <th>83</th>\n",
       "      <td>2025-04-29 14:29:00+07:00</td>\n",
       "      <td>57600.0</td>\n",
       "      <td>100</td>\n",
       "      <td>Buy</td>\n",
       "      <td>293049692</td>\n",
       "    </tr>\n",
       "    <tr>\n",
       "      <th>84</th>\n",
       "      <td>2025-04-29 14:29:02+07:00</td>\n",
       "      <td>57500.0</td>\n",
       "      <td>1800</td>\n",
       "      <td>Sell</td>\n",
       "      <td>293049750</td>\n",
       "    </tr>\n",
       "    <tr>\n",
       "      <th>85</th>\n",
       "      <td>2025-04-29 14:29:02+07:00</td>\n",
       "      <td>57500.0</td>\n",
       "      <td>2000</td>\n",
       "      <td>Sell</td>\n",
       "      <td>293049855</td>\n",
       "    </tr>\n",
       "    <tr>\n",
       "      <th>86</th>\n",
       "      <td>2025-04-29 14:29:17+07:00</td>\n",
       "      <td>57600.0</td>\n",
       "      <td>200</td>\n",
       "      <td>Buy</td>\n",
       "      <td>293050722</td>\n",
       "    </tr>\n",
       "    <tr>\n",
       "      <th>87</th>\n",
       "      <td>2025-04-29 14:29:19+07:00</td>\n",
       "      <td>57500.0</td>\n",
       "      <td>1500</td>\n",
       "      <td>Sell</td>\n",
       "      <td>293050887</td>\n",
       "    </tr>\n",
       "    <tr>\n",
       "      <th>88</th>\n",
       "      <td>2025-04-29 14:29:24+07:00</td>\n",
       "      <td>57500.0</td>\n",
       "      <td>1500</td>\n",
       "      <td>Sell</td>\n",
       "      <td>293051323</td>\n",
       "    </tr>\n",
       "    <tr>\n",
       "      <th>89</th>\n",
       "      <td>2025-04-29 14:29:25+07:00</td>\n",
       "      <td>57600.0</td>\n",
       "      <td>600</td>\n",
       "      <td>Buy</td>\n",
       "      <td>293051389</td>\n",
       "    </tr>\n",
       "    <tr>\n",
       "      <th>90</th>\n",
       "      <td>2025-04-29 14:29:25+07:00</td>\n",
       "      <td>57600.0</td>\n",
       "      <td>200</td>\n",
       "      <td>Buy</td>\n",
       "      <td>293051387</td>\n",
       "    </tr>\n",
       "    <tr>\n",
       "      <th>91</th>\n",
       "      <td>2025-04-29 14:29:25+07:00</td>\n",
       "      <td>57600.0</td>\n",
       "      <td>1800</td>\n",
       "      <td>Buy</td>\n",
       "      <td>293051388</td>\n",
       "    </tr>\n",
       "    <tr>\n",
       "      <th>92</th>\n",
       "      <td>2025-04-29 14:29:26+07:00</td>\n",
       "      <td>57500.0</td>\n",
       "      <td>1000</td>\n",
       "      <td>Sell</td>\n",
       "      <td>293051487</td>\n",
       "    </tr>\n",
       "    <tr>\n",
       "      <th>93</th>\n",
       "      <td>2025-04-29 14:29:34+07:00</td>\n",
       "      <td>57500.0</td>\n",
       "      <td>100</td>\n",
       "      <td>Sell</td>\n",
       "      <td>293052115</td>\n",
       "    </tr>\n",
       "    <tr>\n",
       "      <th>94</th>\n",
       "      <td>2025-04-29 14:29:37+07:00</td>\n",
       "      <td>57600.0</td>\n",
       "      <td>100</td>\n",
       "      <td>Buy</td>\n",
       "      <td>293052328</td>\n",
       "    </tr>\n",
       "    <tr>\n",
       "      <th>95</th>\n",
       "      <td>2025-04-29 14:29:43+07:00</td>\n",
       "      <td>57600.0</td>\n",
       "      <td>300</td>\n",
       "      <td>Buy</td>\n",
       "      <td>293052702</td>\n",
       "    </tr>\n",
       "    <tr>\n",
       "      <th>96</th>\n",
       "      <td>2025-04-29 14:29:43+07:00</td>\n",
       "      <td>57600.0</td>\n",
       "      <td>200</td>\n",
       "      <td>Buy</td>\n",
       "      <td>293052703</td>\n",
       "    </tr>\n",
       "    <tr>\n",
       "      <th>97</th>\n",
       "      <td>2025-04-29 14:29:43+07:00</td>\n",
       "      <td>57600.0</td>\n",
       "      <td>100</td>\n",
       "      <td>Buy</td>\n",
       "      <td>293052704</td>\n",
       "    </tr>\n",
       "    <tr>\n",
       "      <th>98</th>\n",
       "      <td>2025-04-29 14:29:49+07:00</td>\n",
       "      <td>57700.0</td>\n",
       "      <td>100</td>\n",
       "      <td>Buy</td>\n",
       "      <td>293053052</td>\n",
       "    </tr>\n",
       "    <tr>\n",
       "      <th>99</th>\n",
       "      <td>2025-04-29 14:30:03+07:00</td>\n",
       "      <td>57700.0</td>\n",
       "      <td>500</td>\n",
       "      <td>Buy</td>\n",
       "      <td>293053973</td>\n",
       "    </tr>\n",
       "  </tbody>\n",
       "</table>\n",
       "</div>"
      ],
      "text/plain": [
       "                        time    price  volume match_type         id\n",
       "80 2025-04-29 14:28:55+07:00  57500.0    2000       Sell  293049440\n",
       "81 2025-04-29 14:28:57+07:00  57500.0    2000       Sell  293049557\n",
       "82 2025-04-29 14:29:00+07:00  57500.0    2000       Sell  293049649\n",
       "83 2025-04-29 14:29:00+07:00  57600.0     100        Buy  293049692\n",
       "84 2025-04-29 14:29:02+07:00  57500.0    1800       Sell  293049750\n",
       "85 2025-04-29 14:29:02+07:00  57500.0    2000       Sell  293049855\n",
       "86 2025-04-29 14:29:17+07:00  57600.0     200        Buy  293050722\n",
       "87 2025-04-29 14:29:19+07:00  57500.0    1500       Sell  293050887\n",
       "88 2025-04-29 14:29:24+07:00  57500.0    1500       Sell  293051323\n",
       "89 2025-04-29 14:29:25+07:00  57600.0     600        Buy  293051389\n",
       "90 2025-04-29 14:29:25+07:00  57600.0     200        Buy  293051387\n",
       "91 2025-04-29 14:29:25+07:00  57600.0    1800        Buy  293051388\n",
       "92 2025-04-29 14:29:26+07:00  57500.0    1000       Sell  293051487\n",
       "93 2025-04-29 14:29:34+07:00  57500.0     100       Sell  293052115\n",
       "94 2025-04-29 14:29:37+07:00  57600.0     100        Buy  293052328\n",
       "95 2025-04-29 14:29:43+07:00  57600.0     300        Buy  293052702\n",
       "96 2025-04-29 14:29:43+07:00  57600.0     200        Buy  293052703\n",
       "97 2025-04-29 14:29:43+07:00  57600.0     100        Buy  293052704\n",
       "98 2025-04-29 14:29:49+07:00  57700.0     100        Buy  293053052\n",
       "99 2025-04-29 14:30:03+07:00  57700.0     500        Buy  293053973"
      ]
     },
     "execution_count": 27,
     "metadata": {},
     "output_type": "execute_result"
    }
   ],
   "source": [
    "stock.quote.intraday(symbol='VCB').tail(20)"
   ]
  },
  {
   "cell_type": "code",
   "execution_count": null,
   "id": "bfa456df-0c5c-4e81-b101-21fd2b09c25c",
   "metadata": {},
   "outputs": [],
   "source": [
    "while True:"
   ]
  },
  {
   "cell_type": "code",
   "execution_count": 12,
   "id": "70d1b6c8-d1da-4bca-a5fa-82baf1abaa6a",
   "metadata": {},
   "outputs": [
    {
     "name": "stdout",
     "output_type": "stream",
     "text": [
      "{'ok': True, 'result': [{'update_id': 681663065, 'message': {'message_id': 2, 'from': {'id': 817649025, 'is_bot': False, 'first_name': 'Thang', 'last_name': 'Winston', 'language_code': 'en'}, 'chat': {'id': 817649025, 'first_name': 'Thang', 'last_name': 'Winston', 'type': 'private'}, 'date': 1745911537, 'text': 'alo'}}]}\n"
     ]
    }
   ],
   "source": [
    "import requests\n",
    "\n",
    "TOKEN = '8092343811:AAFMv0H66W0B1qzvwwoI5BNmCdMyC3rrHHk'\n",
    "url = f\"https://api.telegram.org/bot{TOKEN}/getUpdates\"\n",
    "\n",
    "response = requests.get(url)\n",
    "print(response.json())"
   ]
  },
  {
   "cell_type": "code",
   "execution_count": 13,
   "id": "e7aae8fe-b692-4f0e-b65a-5083f94e93c2",
   "metadata": {},
   "outputs": [],
   "source": [
    "def send_telegram_message(message, token, chat_id):\n",
    "    url = f\"https://api.telegram.org/bot{token}/sendMessage\"\n",
    "    payload = {\n",
    "        \"chat_id\": chat_id,\n",
    "        \"text\": message\n",
    "    }\n",
    "    response = requests.post(url, data=payload)\n",
    "    return response"
   ]
  },
  {
   "cell_type": "code",
   "execution_count": 14,
   "id": "fc584b88-f673-40ed-b23e-16e0c505d3cc",
   "metadata": {},
   "outputs": [
    {
     "data": {
      "text/plain": [
       "<Response [200]>"
      ]
     },
     "execution_count": 14,
     "metadata": {},
     "output_type": "execute_result"
    }
   ],
   "source": [
    "# Setup\n",
    "BOT_TOKEN = TOKEN\n",
    "CHAT_ID = '817649025'\n",
    "\n",
    "# Send a test message\n",
    "send_telegram_message(\"Hello from Jupyter Notebook!\", BOT_TOKEN, CHAT_ID)\n"
   ]
  },
  {
   "cell_type": "code",
   "execution_count": 25,
   "id": "c4f50998-12c0-48c1-89ba-0cd7f282624e",
   "metadata": {},
   "outputs": [
    {
     "ename": "KeyboardInterrupt",
     "evalue": "",
     "output_type": "error",
     "traceback": [
      "\u001b[31m---------------------------------------------------------------------------\u001b[39m",
      "\u001b[31mKeyboardInterrupt\u001b[39m                         Traceback (most recent call last)",
      "\u001b[36mCell\u001b[39m\u001b[36m \u001b[39m\u001b[32mIn[25]\u001b[39m\u001b[32m, line 10\u001b[39m\n\u001b[32m      8\u001b[39m last_sell_price = \u001b[38;5;28mfloat\u001b[39m(last_sell[\u001b[33m'\u001b[39m\u001b[33mprice\u001b[39m\u001b[33m'\u001b[39m].iloc[\u001b[32m0\u001b[39m])\n\u001b[32m      9\u001b[39m send_telegram_message(\u001b[33mf\u001b[39m\u001b[33m\"\u001b[39m\u001b[38;5;132;01m{\u001b[39;00msymbol\u001b[38;5;132;01m}\u001b[39;00m\u001b[33m Buy: \u001b[39m\u001b[38;5;132;01m{\u001b[39;00mlast_buy_price\u001b[38;5;132;01m}\u001b[39;00m\u001b[33m   Sell: \u001b[39m\u001b[38;5;132;01m{\u001b[39;00mlast_sell_price\u001b[38;5;132;01m}\u001b[39;00m\u001b[33m\"\u001b[39m, BOT_TOKEN, CHAT_ID)\n\u001b[32m---> \u001b[39m\u001b[32m10\u001b[39m \u001b[43mtime\u001b[49m\u001b[43m.\u001b[49m\u001b[43msleep\u001b[49m\u001b[43m(\u001b[49m\u001b[32;43m5\u001b[39;49m\u001b[43m)\u001b[49m\n",
      "\u001b[31mKeyboardInterrupt\u001b[39m: "
     ]
    }
   ],
   "source": [
    "symbol = 'VCB'\n",
    "\n",
    "while True: \n",
    "    stk = stock.quote.intraday(symbol=symbol, to_df=True)\n",
    "    last_buy = stk[stk['match_type'] == 'Buy'].tail(1)\n",
    "    last_buy_price = float(last_buy['price'].iloc[0])\n",
    "    last_sell = stk[stk['match_type'] == 'Sell'].tail(1)\n",
    "    last_sell_price = float(last_sell['price'].iloc[0])\n",
    "    send_telegram_message(f\"{symbol} Buy: {last_buy_price}   Sell: {last_sell_price}\", BOT_TOKEN, CHAT_ID)\n",
    "    time.sleep(5)"
   ]
  },
  {
   "cell_type": "code",
   "execution_count": 22,
   "id": "c8662b53-354c-4a9a-9c6f-8da33a5b3c08",
   "metadata": {},
   "outputs": [
    {
     "data": {
      "text/plain": [
       "57700.0"
      ]
     },
     "execution_count": 22,
     "metadata": {},
     "output_type": "execute_result"
    }
   ],
   "source": [
    "stk = stock.quote.intraday(symbol='VCB', to_df=True)\n",
    "last_buy = stk[stk['match_type'] == 'Buy'].tail(1)\n",
    "float(last_buy['price'].iloc[0])"
   ]
  },
  {
   "cell_type": "code",
   "execution_count": null,
   "id": "c96dad5e-2094-427f-b4e5-7ef2b26aa775",
   "metadata": {},
   "outputs": [],
   "source": []
  }
 ],
 "metadata": {
  "kernelspec": {
   "display_name": "Python 3 (ipykernel)",
   "language": "python",
   "name": "python3"
  },
  "language_info": {
   "codemirror_mode": {
    "name": "ipython",
    "version": 3
   },
   "file_extension": ".py",
   "mimetype": "text/x-python",
   "name": "python",
   "nbconvert_exporter": "python",
   "pygments_lexer": "ipython3",
   "version": "3.12.9"
  }
 },
 "nbformat": 4,
 "nbformat_minor": 5
}

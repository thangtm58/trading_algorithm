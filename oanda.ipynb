{
 "cells": [
  {
   "cell_type": "code",
   "execution_count": 3,
   "id": "4407bc47-2461-48c6-adc3-fd2e4aa224af",
   "metadata": {},
   "outputs": [],
   "source": [
    "import tpqoa\n",
    "api = tpqoa.tpqoa('pyalgo.cfg')"
   ]
  },
  {
   "cell_type": "code",
   "execution_count": 4,
   "id": "aaa6db78-6365-4965-816a-fcb303bc24b3",
   "metadata": {},
   "outputs": [
    {
     "data": {
      "text/plain": [
       "[('AUD/CAD', 'AUD_CAD'),\n",
       " ('AUD/CHF', 'AUD_CHF'),\n",
       " ('AUD/HKD', 'AUD_HKD'),\n",
       " ('AUD/JPY', 'AUD_JPY'),\n",
       " ('AUD/NZD', 'AUD_NZD'),\n",
       " ('AUD/SGD', 'AUD_SGD'),\n",
       " ('AUD/USD', 'AUD_USD'),\n",
       " ('Australia 200', 'AU200_AUD'),\n",
       " ('Bitcoin', 'BTC_USD'),\n",
       " ('Bitcoin Cash', 'BCH_USD'),\n",
       " ('Brent Crude Oil', 'BCO_USD'),\n",
       " ('Bund', 'DE10YB_EUR'),\n",
       " ('CAD/CHF', 'CAD_CHF'),\n",
       " ('CAD/HKD', 'CAD_HKD'),\n",
       " ('CAD/JPY', 'CAD_JPY')]"
      ]
     },
     "execution_count": 4,
     "metadata": {},
     "output_type": "execute_result"
    }
   ],
   "source": [
    "api.get_instruments()[:15]"
   ]
  },
  {
   "cell_type": "code",
   "execution_count": 5,
   "id": "e9631842-0355-4940-8194-0db5c8b6b215",
   "metadata": {},
   "outputs": [
    {
     "name": "stdout",
     "output_type": "stream",
     "text": [
      "Help on method get_history in module tpqoa.tpqoa:\n",
      "\n",
      "get_history(instrument, start, end, granularity, price, localize=True) method of tpqoa.tpqoa.tpqoa instance\n",
      "    Retrieves historical data for instrument.\n",
      "\n",
      "    Parameters\n",
      "    ==========\n",
      "    instrument: string\n",
      "        valid instrument name\n",
      "    start, end: datetime, str\n",
      "        Python datetime or string objects for start and end\n",
      "    granularity: string\n",
      "        a string like 'S5', 'M1' or 'D'\n",
      "    price: string\n",
      "        one of 'A' (ask), 'B' (bid) or 'M' (middle)\n",
      "\n",
      "    Returns\n",
      "    =======\n",
      "    data: pd.DataFrame\n",
      "        pandas DataFrame object with data\n",
      "\n"
     ]
    }
   ],
   "source": [
    "help(api.get_history)"
   ]
  },
  {
   "cell_type": "code",
   "execution_count": 15,
   "id": "317d212a-05eb-4475-9cab-dca7c6807ded",
   "metadata": {},
   "outputs": [],
   "source": [
    "instrument = 'EUR_USD'  \n",
    "start = '2020-08-10'  \n",
    "end = '2020-08-12'  \n",
    "granularity = 'M1'  \n",
    "price = 'M'"
   ]
  },
  {
   "cell_type": "code",
   "execution_count": 16,
   "id": "6c27f983-66de-4052-b79b-8c41bad1b505",
   "metadata": {},
   "outputs": [
    {
     "name": "stdout",
     "output_type": "stream",
     "text": [
      "<class 'pandas.core.frame.DataFrame'>\n",
      "DatetimeIndex: 2814 entries, 2020-08-10 00:00:00 to 2020-08-11 23:59:00\n",
      "Data columns (total 6 columns):\n",
      " #   Column    Non-Null Count  Dtype  \n",
      "---  ------    --------------  -----  \n",
      " 0   o         2814 non-null   float64\n",
      " 1   h         2814 non-null   float64\n",
      " 2   l         2814 non-null   float64\n",
      " 3   c         2814 non-null   float64\n",
      " 4   volume    2814 non-null   int64  \n",
      " 5   complete  2814 non-null   bool   \n",
      "dtypes: bool(1), float64(4), int64(1)\n",
      "memory usage: 134.7 KB\n"
     ]
    }
   ],
   "source": [
    "data = api.get_history(instrument, start, end, granularity, price)\n",
    "data.info()"
   ]
  },
  {
   "cell_type": "code",
   "execution_count": 17,
   "id": "1ab21f1c-3b38-4cc3-982f-4850a12ac51e",
   "metadata": {},
   "outputs": [
    {
     "data": {
      "text/html": [
       "<div>\n",
       "<style scoped>\n",
       "    .dataframe tbody tr th:only-of-type {\n",
       "        vertical-align: middle;\n",
       "    }\n",
       "\n",
       "    .dataframe tbody tr th {\n",
       "        vertical-align: top;\n",
       "    }\n",
       "\n",
       "    .dataframe thead th {\n",
       "        text-align: right;\n",
       "    }\n",
       "</style>\n",
       "<table border=\"1\" class=\"dataframe\">\n",
       "  <thead>\n",
       "    <tr style=\"text-align: right;\">\n",
       "      <th></th>\n",
       "      <th>c</th>\n",
       "      <th>volume</th>\n",
       "    </tr>\n",
       "    <tr>\n",
       "      <th>time</th>\n",
       "      <th></th>\n",
       "      <th></th>\n",
       "    </tr>\n",
       "  </thead>\n",
       "  <tbody>\n",
       "    <tr>\n",
       "      <th>2020-08-10 00:00:00</th>\n",
       "      <td>1.17822</td>\n",
       "      <td>18</td>\n",
       "    </tr>\n",
       "    <tr>\n",
       "      <th>2020-08-10 00:01:00</th>\n",
       "      <td>1.17836</td>\n",
       "      <td>32</td>\n",
       "    </tr>\n",
       "    <tr>\n",
       "      <th>2020-08-10 00:02:00</th>\n",
       "      <td>1.17828</td>\n",
       "      <td>25</td>\n",
       "    </tr>\n",
       "    <tr>\n",
       "      <th>2020-08-10 00:03:00</th>\n",
       "      <td>1.17834</td>\n",
       "      <td>13</td>\n",
       "    </tr>\n",
       "    <tr>\n",
       "      <th>2020-08-10 00:04:00</th>\n",
       "      <td>1.17847</td>\n",
       "      <td>43</td>\n",
       "    </tr>\n",
       "  </tbody>\n",
       "</table>\n",
       "</div>"
      ],
      "text/plain": [
       "                           c  volume\n",
       "time                                \n",
       "2020-08-10 00:00:00  1.17822      18\n",
       "2020-08-10 00:01:00  1.17836      32\n",
       "2020-08-10 00:02:00  1.17828      25\n",
       "2020-08-10 00:03:00  1.17834      13\n",
       "2020-08-10 00:04:00  1.17847      43"
      ]
     },
     "execution_count": 17,
     "metadata": {},
     "output_type": "execute_result"
    }
   ],
   "source": [
    "data[['c', 'volume']].head()"
   ]
  },
  {
   "cell_type": "code",
   "execution_count": 20,
   "id": "cb6eccbf-cc2a-43ef-b6b3-244de34c4a16",
   "metadata": {},
   "outputs": [],
   "source": [
    "import numpy as np\n",
    "data['returns'] = np.log(data['c'] / data['c'].shift(1))\n",
    "cols = []\n",
    "for momentum in [15,30,60,120]:\n",
    "    col = 'position_{}'.format(momentum)  \n",
    "    data[col] = np.sign(data['returns'].rolling(momentum).mean())  \n",
    "    cols.append(col)"
   ]
  },
  {
   "cell_type": "code",
   "execution_count": 22,
   "id": "2385a162-8266-4eac-82db-3df3aa6aa92a",
   "metadata": {},
   "outputs": [
    {
     "data": {
      "text/html": [
       "<div>\n",
       "<style scoped>\n",
       "    .dataframe tbody tr th:only-of-type {\n",
       "        vertical-align: middle;\n",
       "    }\n",
       "\n",
       "    .dataframe tbody tr th {\n",
       "        vertical-align: top;\n",
       "    }\n",
       "\n",
       "    .dataframe thead th {\n",
       "        text-align: right;\n",
       "    }\n",
       "</style>\n",
       "<table border=\"1\" class=\"dataframe\">\n",
       "  <thead>\n",
       "    <tr style=\"text-align: right;\">\n",
       "      <th></th>\n",
       "      <th>o</th>\n",
       "      <th>h</th>\n",
       "      <th>l</th>\n",
       "      <th>c</th>\n",
       "      <th>volume</th>\n",
       "      <th>complete</th>\n",
       "      <th>return</th>\n",
       "      <th>position_15</th>\n",
       "      <th>position_30</th>\n",
       "      <th>position_60</th>\n",
       "      <th>position_120</th>\n",
       "      <th>returns</th>\n",
       "    </tr>\n",
       "    <tr>\n",
       "      <th>time</th>\n",
       "      <th></th>\n",
       "      <th></th>\n",
       "      <th></th>\n",
       "      <th></th>\n",
       "      <th></th>\n",
       "      <th></th>\n",
       "      <th></th>\n",
       "      <th></th>\n",
       "      <th></th>\n",
       "      <th></th>\n",
       "      <th></th>\n",
       "      <th></th>\n",
       "    </tr>\n",
       "  </thead>\n",
       "  <tbody>\n",
       "    <tr>\n",
       "      <th>2020-08-10 00:00:00</th>\n",
       "      <td>1.17814</td>\n",
       "      <td>1.17822</td>\n",
       "      <td>1.17814</td>\n",
       "      <td>1.17822</td>\n",
       "      <td>18</td>\n",
       "      <td>True</td>\n",
       "      <td>NaN</td>\n",
       "      <td>NaN</td>\n",
       "      <td>NaN</td>\n",
       "      <td>NaN</td>\n",
       "      <td>NaN</td>\n",
       "      <td>NaN</td>\n",
       "    </tr>\n",
       "    <tr>\n",
       "      <th>2020-08-10 00:01:00</th>\n",
       "      <td>1.17823</td>\n",
       "      <td>1.17841</td>\n",
       "      <td>1.17822</td>\n",
       "      <td>1.17836</td>\n",
       "      <td>32</td>\n",
       "      <td>True</td>\n",
       "      <td>0.000119</td>\n",
       "      <td>NaN</td>\n",
       "      <td>NaN</td>\n",
       "      <td>NaN</td>\n",
       "      <td>NaN</td>\n",
       "      <td>0.000119</td>\n",
       "    </tr>\n",
       "    <tr>\n",
       "      <th>2020-08-10 00:02:00</th>\n",
       "      <td>1.17834</td>\n",
       "      <td>1.17834</td>\n",
       "      <td>1.17826</td>\n",
       "      <td>1.17828</td>\n",
       "      <td>25</td>\n",
       "      <td>True</td>\n",
       "      <td>-0.000068</td>\n",
       "      <td>NaN</td>\n",
       "      <td>NaN</td>\n",
       "      <td>NaN</td>\n",
       "      <td>NaN</td>\n",
       "      <td>-0.000068</td>\n",
       "    </tr>\n",
       "    <tr>\n",
       "      <th>2020-08-10 00:03:00</th>\n",
       "      <td>1.17827</td>\n",
       "      <td>1.17834</td>\n",
       "      <td>1.17827</td>\n",
       "      <td>1.17834</td>\n",
       "      <td>13</td>\n",
       "      <td>True</td>\n",
       "      <td>0.000051</td>\n",
       "      <td>NaN</td>\n",
       "      <td>NaN</td>\n",
       "      <td>NaN</td>\n",
       "      <td>NaN</td>\n",
       "      <td>0.000051</td>\n",
       "    </tr>\n",
       "    <tr>\n",
       "      <th>2020-08-10 00:04:00</th>\n",
       "      <td>1.17836</td>\n",
       "      <td>1.17852</td>\n",
       "      <td>1.17836</td>\n",
       "      <td>1.17847</td>\n",
       "      <td>43</td>\n",
       "      <td>True</td>\n",
       "      <td>0.000110</td>\n",
       "      <td>NaN</td>\n",
       "      <td>NaN</td>\n",
       "      <td>NaN</td>\n",
       "      <td>NaN</td>\n",
       "      <td>0.000110</td>\n",
       "    </tr>\n",
       "  </tbody>\n",
       "</table>\n",
       "</div>"
      ],
      "text/plain": [
       "                           o        h        l        c  volume  complete  \\\n",
       "time                                                                        \n",
       "2020-08-10 00:00:00  1.17814  1.17822  1.17814  1.17822      18      True   \n",
       "2020-08-10 00:01:00  1.17823  1.17841  1.17822  1.17836      32      True   \n",
       "2020-08-10 00:02:00  1.17834  1.17834  1.17826  1.17828      25      True   \n",
       "2020-08-10 00:03:00  1.17827  1.17834  1.17827  1.17834      13      True   \n",
       "2020-08-10 00:04:00  1.17836  1.17852  1.17836  1.17847      43      True   \n",
       "\n",
       "                       return  position_15  position_30  position_60  \\\n",
       "time                                                                   \n",
       "2020-08-10 00:00:00       NaN          NaN          NaN          NaN   \n",
       "2020-08-10 00:01:00  0.000119          NaN          NaN          NaN   \n",
       "2020-08-10 00:02:00 -0.000068          NaN          NaN          NaN   \n",
       "2020-08-10 00:03:00  0.000051          NaN          NaN          NaN   \n",
       "2020-08-10 00:04:00  0.000110          NaN          NaN          NaN   \n",
       "\n",
       "                     position_120   returns  \n",
       "time                                         \n",
       "2020-08-10 00:00:00           NaN       NaN  \n",
       "2020-08-10 00:01:00           NaN  0.000119  \n",
       "2020-08-10 00:02:00           NaN -0.000068  \n",
       "2020-08-10 00:03:00           NaN  0.000051  \n",
       "2020-08-10 00:04:00           NaN  0.000110  "
      ]
     },
     "execution_count": 22,
     "metadata": {},
     "output_type": "execute_result"
    }
   ],
   "source": [
    "data.head()"
   ]
  },
  {
   "cell_type": "code",
   "execution_count": 38,
   "id": "8beca3be-d5eb-4e86-8aa0-8994afb66be6",
   "metadata": {},
   "outputs": [
    {
     "ename": "TypeError",
     "evalue": "'bool' object is not callable",
     "output_type": "error",
     "traceback": [
      "\u001b[31m---------------------------------------------------------------------------\u001b[39m",
      "\u001b[31mTypeError\u001b[39m                                 Traceback (most recent call last)",
      "\u001b[36mCell\u001b[39m\u001b[36m \u001b[39m\u001b[32mIn[38]\u001b[39m\u001b[32m, line 17\u001b[39m\n\u001b[32m     15\u001b[39m plt.plot(data[strats].dropna().cumsum().apply(np.exp))\n\u001b[32m     16\u001b[39m \u001b[38;5;66;03m# data[strats].dropna().cumsum().apply(np.exp).plot(figsize=(10,6))\u001b[39;00m\n\u001b[32m---> \u001b[39m\u001b[32m17\u001b[39m \u001b[43mplt\u001b[49m\u001b[43m.\u001b[49m\u001b[43mgrid\u001b[49m\u001b[43m(\u001b[49m\u001b[38;5;28;43;01mTrue\u001b[39;49;00m\u001b[43m)\u001b[49m\n\u001b[32m     18\u001b[39m plt.tight_layout()\n\u001b[32m     19\u001b[39m plt.show()\n",
      "\u001b[31mTypeError\u001b[39m: 'bool' object is not callable"
     ]
    },
    {
     "data": {
      "image/png": "[encoded data removed]",
      "text/plain": [
       "<Figure size 1000x500 with 1 Axes>"
      ]
     },
     "metadata": {},
     "output_type": "display_data"
    }
   ],
   "source": [
    "import matplotlib.pyplot as plt\n",
    "plt.style.use('ggplot')\n",
    "import matplotlib as mpl\n",
    "mpl.rcParams['savefig.dpi'] = 300\n",
    "mpl.rcParams['font.family'] = 'serif'\n",
    "\n",
    "strats = ['returns']\n",
    "for col in cols:  \n",
    "     strat = 'strategy_{}'.format(col.split('_')[1])  \n",
    "     data[strat] = data[col].shift(1) * data['returns']  \n",
    "     strats.append(strat)\n",
    "\n",
    "# fig, ax = plt.subplots(figsize=(12, 6))\n",
    "plt.figure(figsize=(10, 5))\n",
    "plt.plot(data[strats].dropna().cumsum().apply(np.exp))\n",
    "# data[strats].dropna().cumsum().apply(np.exp).plot(figsize=(10,6))\n",
    "plt.grid(True)\n",
    "plt.tight_layout()\n",
    "plt.show()"
   ]
  },
  {
   "cell_type": "markdown",
   "id": "98e7698f-f2d9-4f5b-a165-dceccc0bbba6",
   "metadata": {},
   "source": [
    "# Margin 20:1"
   ]
  },
  {
   "cell_type": "markdown",
   "id": "de21e891-a43a-46f7-a450-d4249db94588",
   "metadata": {},
   "source": [
    "plt.figure(figsize=(10, 5))\n",
    "plt.plot(data[strats].dropna().cumsum().apply(lambda x: x*20).apply(np.exp))\n",
    "#plt.grid(True)\n",
    "plt.tight_layout()\n",
    "plt.show()"
   ]
  },
  {
   "cell_type": "markdown",
   "id": "5484cab7-a735-4236-ad2a-c63386b4173d",
   "metadata": {},
   "source": [
    "# Work with Streaming data"
   ]
  },
  {
   "cell_type": "code",
   "execution_count": 41,
   "id": "467b0bd2-b78a-4eeb-b628-0b5b38d1eae7",
   "metadata": {},
   "outputs": [
    {
     "name": "stdout",
     "output_type": "stream",
     "text": [
      "2025-04-15T13:17:03.941048875Z 1.13138 1.13148\n",
      "2025-04-15T13:17:04.326657296Z 1.13144 1.13156\n",
      "2025-04-15T13:17:04.591862457Z 1.13145 1.13156\n",
      "2025-04-15T13:17:05.112339138Z 1.13145 1.13155\n",
      "2025-04-15T13:17:05.394937484Z 1.13145 1.13154\n",
      "2025-04-15T13:17:05.898694256Z 1.13144 1.13154\n",
      "2025-04-15T13:17:06.438462987Z 1.13141 1.13149\n",
      "2025-04-15T13:17:06.777534883Z 1.13141 1.13149\n",
      "2025-04-15T13:17:06.952528217Z 1.13139 1.13149\n",
      "2025-04-15T13:17:07.582039084Z 1.13143 1.13154\n"
     ]
    }
   ],
   "source": [
    "api.stream_data(instrument, stop=10)"
   ]
  },
  {
   "cell_type": "code",
   "execution_count": 42,
   "id": "3be91c78-51fb-4347-84e5-784b6cf38bd9",
   "metadata": {},
   "outputs": [
    {
     "name": "stdout",
     "output_type": "stream",
     "text": [
      "Help on method stream_data in module tpqoa.tpqoa:\n",
      "\n",
      "stream_data(instrument, stop=None, ret=False, callback=None) method of tpqoa.tpqoa.tpqoa instance\n",
      "    Starts a real-time data stream.\n",
      "\n",
      "    Parameters\n",
      "    ==========\n",
      "    instrument: string\n",
      "        valid instrument name\n",
      "\n"
     ]
    }
   ],
   "source": [
    "help(api.stream_data)"
   ]
  },
  {
   "cell_type": "markdown",
   "id": "7bea8d59-7635-44a6-8311-3c7715119975",
   "metadata": {},
   "source": [
    "# Test command"
   ]
  },
  {
   "cell_type": "code",
   "execution_count": 43,
   "id": "5b408e0c-3e18-44d5-a98e-2151697ad2a5",
   "metadata": {},
   "outputs": [
    {
     "name": "stdout",
     "output_type": "stream",
     "text": [
      "\n",
      "\n",
      " {'id': '5', 'time': '2025-04-15T13:19:33.920554941Z', 'userID': 31516200, 'accountID': '101-011-31516200-001', 'batchID': '4', 'requestID': '97389891932642885', 'type': 'ORDER_FILL', 'orderID': '4', 'instrument': 'EUR_USD', 'units': '1000.0', 'gainQuoteHomeConversionFactor': '1.559707828291', 'lossQuoteHomeConversionFactor': '1.575383283852', 'price': 1.13106, 'fullVWAP': 1.13106, 'fullPrice': {'type': 'PRICE', 'bids': [{'price': 1.13095, 'liquidity': '500000'}, {'price': 1.13094, 'liquidity': '2500000'}, {'price': 1.13093, 'liquidity': '2000000'}, {'price': 1.13092, 'liquidity': '5000000'}, {'price': 1.13089, 'liquidity': '10000000'}, {'price': 1.13086, 'liquidity': '10000000'}], 'asks': [{'price': 1.13106, 'liquidity': '500000'}, {'price': 1.13107, 'liquidity': '500000'}, {'price': 1.13108, 'liquidity': '2000000'}, {'price': 1.13109, 'liquidity': '2000000'}, {'price': 1.1311, 'liquidity': '5000000'}, {'price': 1.13112, 'liquidity': '10000000'}, {'price': 1.13115, 'liquidity': '10000000'}], 'closeoutBid': 1.13086, 'closeoutAsk': 1.13115}, 'reason': 'MARKET_ORDER', 'pl': '0.0', 'financing': '0.0', 'commission': '0.0', 'guaranteedExecutionFee': '0.0', 'accountBalance': '100000.0', 'tradeOpened': {'tradeID': '5', 'units': '1000.0', 'price': 1.13106, 'guaranteedExecutionFee': '0.0', 'halfSpreadCost': '0.0862', 'initialMarginRequired': '59.0389'}, 'halfSpreadCost': '0.0862'} \n",
      "\n"
     ]
    }
   ],
   "source": [
    "# Opens a long position via market order.\n",
    "api.create_order(instrument, 1000)"
   ]
  },
  {
   "cell_type": "markdown",
   "id": "edfe46ee-b468-46a6-962d-076f9a9a740e",
   "metadata": {},
   "source": [
    "# Implementing Trading Strategies in Real Time"
   ]
  },
  {
   "cell_type": "code",
   "execution_count": 44,
   "id": "b744cb4a-a80a-42dd-af3b-c3741e04f2c2",
   "metadata": {},
   "outputs": [],
   "source": [
    "import tpqoa\n",
    "import numpy as np\n",
    "import pandas as pd\n",
    "\n",
    "\n",
    "class MomentumTrader(tpqoa.tpqoa):\n",
    "    def __init__(self, conf_file, instrument, bar_length, momentum, units,\n",
    "                 *args, **kwargs):\n",
    "        super(MomentumTrader, self).__init__(conf_file)\n",
    "        self.position = 0  \n",
    "        self.instrument = instrument  \n",
    "        self.momentum = momentum  \n",
    "        self.bar_length = bar_length  # Length of the bar for the resampling of the tick data.\n",
    "        self.units = units  # Number of units to be traded\n",
    "        self.raw_data = pd.DataFrame()  # An empty DataFrame object to be filled with tick data\n",
    "        self.min_length = self.momentum + 1  # The initial minimum bar length for the start of the trading itself\n",
    "\n",
    "    # This method is called whenever new tick data arrives.\n",
    "    def on_success(self, time, bid, ask):  \n",
    "        ''' Takes actions when new tick data arrives. '''\n",
    "        print(self.ticks, end=' ')   # The number of ticks retrieved is printed.\n",
    "        self.raw_data = pd.concat([self.raw_data, pd.DataFrame(\n",
    "            {'bid': bid, 'ask': ask}, index=[pd.Timestamp(time)])])\n",
    "        self.data = self.raw_data.resample(\n",
    "            self.bar_length, label='right').last().ffill().iloc[:-1]  # The tick data is then resampled to the appropriate bar length.\n",
    "        self.data['mid'] = self.data.mean(axis=1)  \n",
    "        self.data['returns'] = np.log(self.data['mid'] /\n",
    "                                      self.data['mid'].shift(1))  \n",
    "        self.data['position'] = np.sign(\n",
    "            self.data['returns'].rolling(self.momentum).mean())  \n",
    "\n",
    "        if len(self.data) > self.min_length:  \n",
    "            self.min_length += 1  \n",
    "            if self.data['position'].iloc[-1] == 1:  \n",
    "                if self.position == 0:  \n",
    "                    self.create_order(self.instrument, self.units)  \n",
    "                elif self.position == -1:  \n",
    "                    self.create_order(self.instrument, self.units * 2)  # Convert to position=1\n",
    "                self.position = 1  \n",
    "            elif self.data['position'].iloc[-1] == -1:  \n",
    "                if self.position == 0:  \n",
    "                    self.create_order(self.instrument, -self.units)  \n",
    "                elif self.position == 1:  \n",
    "                    self.create_order(self.instrument, -self.units * 2)  \n",
    "                self.position = -1  "
   ]
  },
  {
   "cell_type": "code",
   "execution_count": 46,
   "id": "3ab42d34-d90c-4592-8f4f-d5beb34098a5",
   "metadata": {},
   "outputs": [],
   "source": [
    "mt = MomentumTrader('pyalgo.cfg',  \n",
    "                        instrument=instrument,  \n",
    "                        bar_length='10s',  \n",
    "                        momentum=6,  \n",
    "                        units=10000)"
   ]
  },
  {
   "cell_type": "code",
   "execution_count": 48,
   "id": "76413bb0-7fed-4e7d-8478-e166097d9058",
   "metadata": {},
   "outputs": [
    {
     "name": "stdout",
     "output_type": "stream",
     "text": [
      "1 2 3 4 5 6 7 8 9 \n",
      "\n",
      " {'id': '7', 'time': '2025-04-15T13:46:21.043452064Z', 'userID': 31516200, 'accountID': '101-011-31516200-001', 'batchID': '6', 'requestID': '61361101658944766', 'type': 'ORDER_FILL', 'orderID': '6', 'instrument': 'EUR_USD', 'units': '-10000.0', 'gainQuoteHomeConversionFactor': '1.560625212753', 'lossQuoteHomeConversionFactor': '1.576309888258', 'price': 1.13111, 'fullVWAP': 1.13111, 'fullPrice': {'type': 'PRICE', 'bids': [{'price': 1.13111, 'liquidity': '500000'}, {'price': 1.1311, 'liquidity': '2500000'}, {'price': 1.13109, 'liquidity': '2000000'}, {'price': 1.13108, 'liquidity': '5000000'}, {'price': 1.13105, 'liquidity': '10000000'}, {'price': 1.13102, 'liquidity': '10000000'}], 'asks': [{'price': 1.1312, 'liquidity': '500000'}, {'price': 1.13121, 'liquidity': '500000'}, {'price': 1.13122, 'liquidity': '2000000'}, {'price': 1.13123, 'liquidity': '2000000'}, {'price': 1.13124, 'liquidity': '5000000'}, {'price': 1.13126, 'liquidity': '10000000'}, {'price': 1.13129, 'liquidity': '10000000'}], 'closeoutBid': 1.13102, 'closeoutAsk': 1.13129}, 'reason': 'MARKET_ORDER', 'pl': '0.078', 'financing': '0.0', 'commission': '0.0', 'guaranteedExecutionFee': '0.0', 'accountBalance': '100000.078', 'tradeOpened': {'tradeID': '7', 'units': '-9000.0', 'price': 1.13111, 'guaranteedExecutionFee': '0.0', 'halfSpreadCost': '0.6352', 'initialMarginRequired': '531.7217'}, 'tradesClosed': [{'tradeID': '5', 'units': '-1000.0', 'price': 1.13111, 'realizedPL': '0.078', 'financing': '0.0', 'guaranteedExecutionFee': '0.0', 'halfSpreadCost': '0.0706'}], 'halfSpreadCost': '0.7058'} \n",
      "\n",
      "10 11 12 13 14 15 16 17 18 19 20 21 22 23 24 25 26 27 28 29 30 31 32 33 34 35 36 37 38 39 40 41 42 43 44 45 46 47 48 49 50 51 52 53 54 55 56 57 58 59 60 61 62 63 64 65 66 67 68 69 70 71 72 73 74 75 76 77 78 79 80 81 82 83 84 85 86 87 88 89 90 91 92 93 94 95 96 97 98 99 100 101 102 103 104 105 106 107 108 109 110 111 112 113 114 115 116 117 118 119 120 121 122 123 124 125 126 127 128 129 130 131 132 133 134 135 136 \n",
      "\n",
      " {'id': '9', 'time': '2025-04-15T13:47:21.122112092Z', 'userID': 31516200, 'accountID': '101-011-31516200-001', 'batchID': '8', 'requestID': '61361101910669499', 'type': 'ORDER_FILL', 'orderID': '8', 'instrument': 'EUR_USD', 'units': '20000.0', 'gainQuoteHomeConversionFactor': '1.559255653273', 'lossQuoteHomeConversionFactor': '1.574926564361', 'price': 1.13155, 'fullVWAP': 1.13155, 'fullPrice': {'type': 'PRICE', 'bids': [{'price': 1.13142, 'liquidity': '500000'}, {'price': 1.13141, 'liquidity': '2500000'}, {'price': 1.1314, 'liquidity': '2000000'}, {'price': 1.13139, 'liquidity': '5000000'}, {'price': 1.13136, 'liquidity': '10000000'}, {'price': 1.13133, 'liquidity': '10000000'}], 'asks': [{'price': 1.13155, 'liquidity': '500000'}, {'price': 1.13156, 'liquidity': '500000'}, {'price': 1.13157, 'liquidity': '2000000'}, {'price': 1.13158, 'liquidity': '2000000'}, {'price': 1.13159, 'liquidity': '5000000'}, {'price': 1.13161, 'liquidity': '10000000'}, {'price': 1.13164, 'liquidity': '10000000'}], 'closeoutBid': 1.13133, 'closeoutAsk': 1.13164}, 'reason': 'MARKET_ORDER', 'pl': '-6.2367', 'financing': '0.0', 'commission': '0.0', 'guaranteedExecutionFee': '0.0', 'accountBalance': '99993.8413', 'tradeOpened': {'tradeID': '9', 'units': '11000.0', 'price': 1.13155, 'guaranteedExecutionFee': '0.0', 'halfSpreadCost': '1.1205', 'initialMarginRequired': '649.5048'}, 'tradesClosed': [{'tradeID': '7', 'units': '9000.0', 'price': 1.13155, 'realizedPL': '-6.2367', 'financing': '0.0', 'guaranteedExecutionFee': '0.0', 'halfSpreadCost': '0.9167'}], 'halfSpreadCost': '2.0372'} \n",
      "\n",
      "137 138 139 140 141 142 143 144 145 146 147 148 149 150 151 152 153 154 155 156 157 158 159 160 161 162 163 164 165 166 167 168 169 170 171 172 173 174 175 176 177 178 179 180 181 182 183 184 185 186 187 188 189 190 191 192 193 194 195 196 197 198 199 200 201 202 203 204 205 206 207 208 209 210 211 212 213 214 215 216 217 218 219 220 221 222 223 224 225 226 227 228 229 230 231 232 233 234 235 236 237 238 239 240 241 242 243 244 245 246 247 248 249 250 251 252 253 254 255 256 257 258 259 260 261 262 263 264 265 266 267 268 269 270 271 272 273 274 275 276 277 278 279 280 281 282 283 284 285 286 287 288 289 290 291 292 293 294 295 296 297 298 299 300 301 302 303 304 305 306 307 308 309 310 311 312 313 314 315 316 317 318 319 320 321 322 323 324 325 326 327 328 329 330 331 332 333 334 335 336 337 338 339 340 341 342 343 344 345 346 347 348 349 350 351 352 353 354 355 356 357 358 359 360 361 362 363 \n",
      "\n",
      " {'id': '11', 'time': '2025-04-15T13:49:10.766909558Z', 'userID': 31516200, 'accountID': '101-011-31516200-001', 'batchID': '10', 'requestID': '97389899387834795', 'type': 'ORDER_FILL', 'orderID': '10', 'instrument': 'EUR_USD', 'units': '-20000.0', 'gainQuoteHomeConversionFactor': '1.559218993945', 'lossQuoteHomeConversionFactor': '1.574889536598', 'price': 1.13201, 'fullVWAP': 1.13201, 'fullPrice': {'type': 'PRICE', 'bids': [{'price': 1.13201, 'liquidity': '500000'}, {'price': 1.132, 'liquidity': '2500000'}, {'price': 1.13199, 'liquidity': '2000000'}, {'price': 1.13198, 'liquidity': '5000000'}, {'price': 1.13195, 'liquidity': '10000000'}, {'price': 1.13192, 'liquidity': '10000000'}], 'asks': [{'price': 1.13213, 'liquidity': '500000'}, {'price': 1.13214, 'liquidity': '500000'}, {'price': 1.13215, 'liquidity': '2000000'}, {'price': 1.13216, 'liquidity': '2000000'}, {'price': 1.13217, 'liquidity': '5000000'}, {'price': 1.13219, 'liquidity': '10000000'}, {'price': 1.13222, 'liquidity': '10000000'}], 'closeoutBid': 1.13192, 'closeoutAsk': 1.13222}, 'reason': 'MARKET_ORDER', 'pl': '7.8896', 'financing': '0.0', 'commission': '0.0', 'guaranteedExecutionFee': '0.0', 'accountBalance': '100001.7309', 'tradeOpened': {'tradeID': '11', 'units': '-9000.0', 'price': 1.13201, 'guaranteedExecutionFee': '0.0', 'halfSpreadCost': '0.8462', 'initialMarginRequired': '531.6618'}, 'tradesClosed': [{'tradeID': '9', 'units': '-11000.0', 'price': 1.13201, 'realizedPL': '7.8896', 'financing': '0.0', 'guaranteedExecutionFee': '0.0', 'halfSpreadCost': '1.0343'}], 'halfSpreadCost': '1.8805'} \n",
      "\n",
      "364 365 366 367 368 369 370 371 372 373 374 375 376 377 378 379 380 381 382 383 384 385 386 387 388 389 390 391 392 393 394 395 396 397 398 399 400 401 402 403 404 405 406 407 408 409 410 411 412 413 414 415 416 417 418 419 420 421 422 423 424 425 426 427 428 429 430 431 432 433 434 435 436 437 438 439 440 441 442 443 444 \n",
      "\n",
      " {'id': '13', 'time': '2025-04-15T13:49:51.853433590Z', 'userID': 31516200, 'accountID': '101-011-31516200-001', 'batchID': '12', 'requestID': '61361102539982511', 'type': 'ORDER_FILL', 'orderID': '12', 'instrument': 'EUR_USD', 'units': '20000.0', 'gainQuoteHomeConversionFactor': '1.559390054344', 'lossQuoteHomeConversionFactor': '1.575062316197', 'price': 1.13249, 'fullVWAP': 1.13249, 'fullPrice': {'type': 'PRICE', 'bids': [{'price': 1.13237, 'liquidity': '500000'}, {'price': 1.13236, 'liquidity': '2500000'}, {'price': 1.13235, 'liquidity': '2000000'}, {'price': 1.13234, 'liquidity': '5000000'}, {'price': 1.13231, 'liquidity': '10000000'}, {'price': 1.13228, 'liquidity': '10000000'}], 'asks': [{'price': 1.13249, 'liquidity': '500000'}, {'price': 1.1325, 'liquidity': '500000'}, {'price': 1.13251, 'liquidity': '2000000'}, {'price': 1.13252, 'liquidity': '2000000'}, {'price': 1.13253, 'liquidity': '5000000'}, {'price': 1.13255, 'liquidity': '10000000'}, {'price': 1.13258, 'liquidity': '10000000'}], 'closeoutBid': 1.13228, 'closeoutAsk': 1.13258}, 'reason': 'MARKET_ORDER', 'pl': '-6.8043', 'financing': '0.0', 'commission': '0.0', 'guaranteedExecutionFee': '0.0', 'accountBalance': '99994.9266', 'tradeOpened': {'tradeID': '13', 'units': '11000.0', 'price': 1.13249, 'guaranteedExecutionFee': '0.0', 'halfSpreadCost': '1.0344', 'initialMarginRequired': '650.1056'}, 'tradesClosed': [{'tradeID': '11', 'units': '9000.0', 'price': 1.13249, 'realizedPL': '-6.8043', 'financing': '0.0', 'guaranteedExecutionFee': '0.0', 'halfSpreadCost': '0.8463'}], 'halfSpreadCost': '1.8807'} \n",
      "\n",
      "445 446 447 448 449 450 451 452 453 454 455 456 457 458 459 460 461 462 463 464 465 466 467 468 469 470 471 472 473 474 475 476 477 478 479 480 481 482 483 484 485 486 487 488 489 490 491 492 493 494 495 496 497 498 499 500 "
     ]
    }
   ],
   "source": [
    "mt.stream_data(mt.instrument, stop=500)"
   ]
  },
  {
   "cell_type": "code",
   "execution_count": 52,
   "id": "e0c5622c-be31-4760-8b0c-951dc1e072e4",
   "metadata": {},
   "outputs": [
    {
     "data": {
      "text/plain": [
       "{'id': '15',\n",
       " 'time': '2025-04-15T13:54:49.276146798Z',\n",
       " 'userID': 31516200,\n",
       " 'accountID': '101-011-31516200-001',\n",
       " 'batchID': '14',\n",
       " 'requestID': '61361103790219706',\n",
       " 'type': 'ORDER_FILL',\n",
       " 'orderID': '14',\n",
       " 'instrument': 'EUR_USD',\n",
       " 'units': '-10000.0',\n",
       " 'gainQuoteHomeConversionFactor': '1.559891221114',\n",
       " 'lossQuoteHomeConversionFactor': '1.575568519819',\n",
       " 'price': 1.13184,\n",
       " 'fullVWAP': 1.13184,\n",
       " 'fullPrice': {'type': 'PRICE',\n",
       "  'bids': [{'price': 1.13184, 'liquidity': '500000'},\n",
       "   {'price': 1.13183, 'liquidity': '2500000'},\n",
       "   {'price': 1.13182, 'liquidity': '2000000'},\n",
       "   {'price': 1.13181, 'liquidity': '5000000'},\n",
       "   {'price': 1.13178, 'liquidity': '10000000'},\n",
       "   {'price': 1.13175, 'liquidity': '10000000'}],\n",
       "  'asks': [{'price': 1.13193, 'liquidity': '500000'},\n",
       "   {'price': 1.13194, 'liquidity': '500000'},\n",
       "   {'price': 1.13195, 'liquidity': '2000000'},\n",
       "   {'price': 1.13196, 'liquidity': '2000000'},\n",
       "   {'price': 1.13197, 'liquidity': '5000000'},\n",
       "   {'price': 1.13199, 'liquidity': '10000000'},\n",
       "   {'price': 1.13202, 'liquidity': '10000000'}],\n",
       "  'closeoutBid': 1.13175,\n",
       "  'closeoutAsk': 1.13202},\n",
       " 'reason': 'MARKET_ORDER',\n",
       " 'pl': '-10.2412',\n",
       " 'financing': '0.0',\n",
       " 'commission': '0.0',\n",
       " 'guaranteedExecutionFee': '0.0',\n",
       " 'accountBalance': '99984.6854',\n",
       " 'tradeReduced': {'tradeID': '13',\n",
       "  'units': '-10000.0',\n",
       "  'price': 1.13184,\n",
       "  'realizedPL': '-10.2412',\n",
       "  'financing': '0.0',\n",
       "  'guaranteedExecutionFee': '0.0',\n",
       "  'halfSpreadCost': '0.7055'},\n",
       " 'halfSpreadCost': '0.7055'}"
      ]
     },
     "execution_count": 52,
     "metadata": {},
     "output_type": "execute_result"
    }
   ],
   "source": [
    "# Finally, close out the final position:\n",
    "# ret=True: Yêu cầu hàm trả về kết quả order dưới dạng dictionary (dict) thay vì in ra màn hình\n",
    "# suppress=True: Không in thông tin order ra màn hình\n",
    "oo = mt.create_order(instrument, units=-mt.position * mt.units,\n",
    "                              ret=True, suppress=True)  \n",
    "oo"
   ]
  },
  {
   "cell_type": "code",
   "execution_count": 49,
   "id": "d32b6e7e-32d0-47dc-9df9-0dab7025e3cc",
   "metadata": {},
   "outputs": [
    {
     "data": {
      "text/plain": [
       "{'id': '101-011-31516200-001',\n",
       " 'alias': 'Primary',\n",
       " 'currency': 'AUD',\n",
       " 'balance': '99994.9266',\n",
       " 'createdByUserID': 31516200,\n",
       " 'createdTime': '2025-04-15T12:18:10.567088986Z',\n",
       " 'guaranteedStopLossOrderMode': 'ALLOWED',\n",
       " 'pl': '-5.0734',\n",
       " 'resettablePL': '-5.0734',\n",
       " 'resettablePLTime': '0',\n",
       " 'financing': '0.0',\n",
       " 'commission': '0.0',\n",
       " 'guaranteedExecutionFees': '0.0',\n",
       " 'marginRate': '0.02',\n",
       " 'openTradeCount': 1,\n",
       " 'openPositionCount': 1,\n",
       " 'pendingOrderCount': 0,\n",
       " 'hedgingEnabled': False,\n",
       " 'unrealizedPL': '-8.6652',\n",
       " 'NAV': '99986.2614',\n",
       " 'marginUsed': '650.0653',\n",
       " 'marginAvailable': '99337.1015',\n",
       " 'positionValue': '19521.48',\n",
       " 'marginCloseoutUnrealizedPL': '-7.7598',\n",
       " 'marginCloseoutNAV': '99987.1668',\n",
       " 'marginCloseoutMarginUsed': '650.0653',\n",
       " 'marginCloseoutPercent': '0.00325',\n",
       " 'marginCloseoutPositionValue': '19521.48',\n",
       " 'withdrawalLimit': '99337.1015',\n",
       " 'marginCallMarginUsed': '650.0653',\n",
       " 'marginCallPercent': '0.0065',\n",
       " 'lastTransactionID': '13'}"
      ]
     },
     "execution_count": 49,
     "metadata": {},
     "output_type": "execute_result"
    }
   ],
   "source": [
    "api.get_account_summary()"
   ]
  },
  {
   "cell_type": "code",
   "execution_count": 53,
   "id": "a6e3e486-9c31-4ea2-a054-f42e35087299",
   "metadata": {},
   "outputs": [
    {
     "data": {
      "text/plain": [
       "[{'id': '14',\n",
       "  'time': '2025-04-15T13:54:49.276146798Z',\n",
       "  'userID': 31516200,\n",
       "  'accountID': '101-011-31516200-001',\n",
       "  'batchID': '14',\n",
       "  'requestID': '61361103790219706',\n",
       "  'type': 'MARKET_ORDER',\n",
       "  'instrument': 'EUR_USD',\n",
       "  'units': '-10000.0',\n",
       "  'timeInForce': 'FOK',\n",
       "  'positionFill': 'DEFAULT',\n",
       "  'reason': 'CLIENT_ORDER'},\n",
       " {'id': '15',\n",
       "  'time': '2025-04-15T13:54:49.276146798Z',\n",
       "  'userID': 31516200,\n",
       "  'accountID': '101-011-31516200-001',\n",
       "  'batchID': '14',\n",
       "  'requestID': '61361103790219706',\n",
       "  'type': 'ORDER_FILL',\n",
       "  'orderID': '14',\n",
       "  'instrument': 'EUR_USD',\n",
       "  'units': '-10000.0',\n",
       "  'gainQuoteHomeConversionFactor': '1.559891221114',\n",
       "  'lossQuoteHomeConversionFactor': '1.575568519819',\n",
       "  'price': 1.13184,\n",
       "  'fullVWAP': 1.13184,\n",
       "  'fullPrice': {'type': 'PRICE',\n",
       "   'bids': [{'price': 1.13184, 'liquidity': '500000'},\n",
       "    {'price': 1.13183, 'liquidity': '2500000'},\n",
       "    {'price': 1.13182, 'liquidity': '2000000'},\n",
       "    {'price': 1.13181, 'liquidity': '5000000'},\n",
       "    {'price': 1.13178, 'liquidity': '10000000'},\n",
       "    {'price': 1.13175, 'liquidity': '10000000'}],\n",
       "   'asks': [{'price': 1.13193, 'liquidity': '500000'},\n",
       "    {'price': 1.13194, 'liquidity': '500000'},\n",
       "    {'price': 1.13195, 'liquidity': '2000000'},\n",
       "    {'price': 1.13196, 'liquidity': '2000000'},\n",
       "    {'price': 1.13197, 'liquidity': '5000000'},\n",
       "    {'price': 1.13199, 'liquidity': '10000000'},\n",
       "    {'price': 1.13202, 'liquidity': '10000000'}],\n",
       "   'closeoutBid': 1.13175,\n",
       "   'closeoutAsk': 1.13202},\n",
       "  'reason': 'MARKET_ORDER',\n",
       "  'pl': '-10.2412',\n",
       "  'financing': '0.0',\n",
       "  'commission': '0.0',\n",
       "  'guaranteedExecutionFee': '0.0',\n",
       "  'accountBalance': '99984.6854',\n",
       "  'tradeReduced': {'tradeID': '13',\n",
       "   'units': '-10000.0',\n",
       "   'price': 1.13184,\n",
       "   'realizedPL': '-10.2412',\n",
       "   'financing': '0.0',\n",
       "   'guaranteedExecutionFee': '0.0',\n",
       "   'halfSpreadCost': '0.7055'},\n",
       "  'halfSpreadCost': '0.7055'}]"
      ]
     },
     "execution_count": 53,
     "metadata": {},
     "output_type": "execute_result"
    }
   ],
   "source": [
    "api.get_transactions(tid=int(oo['id']) - 2)"
   ]
  },
  {
   "cell_type": "code",
   "execution_count": 55,
   "id": "1db65e94-988a-4c01-807b-3e7da2ccc777",
   "metadata": {},
   "outputs": [
    {
     "name": "stdout",
     "output_type": "stream",
     "text": [
      "Help on method create_order in module tpqoa.tpqoa:\n",
      "\n",
      "create_order(instrument, units, price=None, sl_distance=None, tsl_distance=None, tp_price=None, comment=None, touch=False, suppress=False, ret=False) method of tpqoa.tpqoa.tpqoa instance\n",
      "    Places order with Oanda.\n",
      "\n",
      "    Parameters\n",
      "    ==========\n",
      "    instrument: string\n",
      "        valid instrument name\n",
      "    units: int\n",
      "        number of units of instrument to be bought\n",
      "        (positive int, eg 'units=50')\n",
      "        or to be sold (negative int, eg 'units=-100')\n",
      "    price: float\n",
      "        limit order price, touch order price\n",
      "    sl_distance: float\n",
      "        stop loss distance price, mandatory eg in Germany\n",
      "    tsl_distance: float\n",
      "        trailing stop loss distance\n",
      "    tp_price: float\n",
      "        take profit price to be used for the trade\n",
      "    comment: str\n",
      "        string\n",
      "    touch: boolean\n",
      "        market_if_touched order (requires price to be set)\n",
      "    suppress: boolean\n",
      "        whether to suppress print out\n",
      "    ret: boolean\n",
      "        whether to return the order object\n",
      "\n"
     ]
    }
   ],
   "source": [
    "help(api.create_order)"
   ]
  },
  {
   "cell_type": "code",
   "execution_count": 58,
   "id": "4204eab0-fa8f-4325-b341-76bea8e91f59",
   "metadata": {},
   "outputs": [
    {
     "name": "stdout",
     "output_type": "stream",
     "text": [
      "   7 | 2025-04-15T13:46:21.04 | EUR_USD | -10000.0 |    0.078\n",
      "   9 | 2025-04-15T13:47:21.12 | EUR_USD |  20000.0 |  -6.2367\n",
      "  11 | 2025-04-15T13:49:10.76 | EUR_USD | -20000.0 |   7.8896\n",
      "  13 | 2025-04-15T13:49:51.85 | EUR_USD |  20000.0 |  -6.8043\n",
      "  15 | 2025-04-15T13:54:49.27 | EUR_USD | -10000.0 | -10.2412\n"
     ]
    }
   ],
   "source": [
    "api.print_transactions(tid=int(oo['id']) - 10)"
   ]
  },
  {
   "cell_type": "markdown",
   "id": "9f50dfa7-8944-4140-83a3-6c6e8cae7b82",
   "metadata": {},
   "source": [
    "# Archive Code"
   ]
  },
  {
   "cell_type": "code",
   "execution_count": 64,
   "id": "24995809-6011-4626-86f5-04d2b2b5c2a4",
   "metadata": {},
   "outputs": [
    {
     "name": "stdout",
     "output_type": "stream",
     "text": [
      "Bid: 1.13061 Ask: 1.13089 Mid: 1.13075\n"
     ]
    },
    {
     "data": {
      "text/plain": [
       "\"\\nmt.create_order(instrument=instrument,\\n                units=1000,\\n                order_type='LMT',\\n                price=1.1305,  # GIÁ mong muốn\\n                ret=True) \""
      ]
     },
     "execution_count": 64,
     "metadata": {},
     "output_type": "execute_result"
    }
   ],
   "source": [
    "# price = mt.get_quote(instrument)\n",
    "# print(\"Giá hiện tại (mid):\", price)\n",
    "\n",
    "quote = mt.get_prices(instrument)\n",
    "bid = quote[1]\n",
    "ask = quote[2]\n",
    "mid = (bid + ask) / 2\n",
    "print(\"Bid:\", bid, \"Ask:\", ask, \"Mid:\", mid)\n",
    "\n",
    "\"\"\"\n",
    "mt.create_order(instrument=instrument,\n",
    "                units=1000,\n",
    "                order_type='LMT',\n",
    "                price=1.1305,  # GIÁ mong muốn\n",
    "                ret=True) \"\"\""
   ]
  },
  {
   "cell_type": "code",
   "execution_count": 62,
   "id": "df4ac5e5-4698-4840-b46a-00e674e9ba19",
   "metadata": {},
   "outputs": [
    {
     "name": "stdout",
     "output_type": "stream",
     "text": [
      "Help on method get_prices in module tpqoa.tpqoa:\n",
      "\n",
      "get_prices(instrument) method of tpqoa.tpqoa.tpqoa instance\n",
      "    Returns the current BID/ASK prices for instrument.\n",
      "\n"
     ]
    }
   ],
   "source": [
    "help(api.get_prices)"
   ]
  },
  {
   "cell_type": "code",
   "execution_count": 63,
   "id": "78f8a1df-dd9d-459e-8ac3-4661163c9142",
   "metadata": {},
   "outputs": [
    {
     "data": {
      "text/plain": [
       "('2025-04-15T14:05:49.433117121Z', 1.13118, 1.13144)"
      ]
     },
     "execution_count": 63,
     "metadata": {},
     "output_type": "execute_result"
    }
   ],
   "source": [
    "quote"
   ]
  },
  {
   "cell_type": "code",
   "execution_count": null,
   "id": "365a12a1-9fdd-4ba3-bf20-e03e5679737a",
   "metadata": {},
   "outputs": [],
   "source": []
  }
 ],
 "metadata": {
  "kernelspec": {
   "display_name": "Python 3 (ipykernel)",
   "language": "python",
   "name": "python3"
  },
  "language_info": {
   "codemirror_mode": {
    "name": "ipython",
    "version": 3
   },
   "file_extension": ".py",
   "mimetype": "text/x-python",
   "name": "python",
   "nbconvert_exporter": "python",
   "pygments_lexer": "ipython3",
   "version": "3.12.9"
  }
 },
 "nbformat": 4,
 "nbformat_minor": 5
}

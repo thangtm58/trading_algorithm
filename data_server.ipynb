{
 "cells": [
  {
   "cell_type": "markdown",
   "id": "e0cc50f6-49b6-4e11-bdbd-a7078be01196",
   "metadata": {},
   "source": [
    "# Test server"
   ]
  },
  {
   "cell_type": "code",
   "execution_count": null,
   "id": "305176a4-833b-488c-ac17-d42400a3d248",
   "metadata": {},
   "outputs": [],
   "source": [
    "from function.TickDataServerTest import *"
   ]
  },
  {
   "cell_type": "code",
   "execution_count": null,
   "id": "fbe2343e-345a-4b0b-ad74-28d4640ebe79",
   "metadata": {},
   "outputs": [],
   "source": [
    "ip = InstrumentPrice()\n",
    "\n",
    "while True:\n",
    "    msg = '{} {:.2f}'.format(ip.symbol, ip.simulate_value())\n",
    "    print(msg)\n",
    "    socket.send_string(msg)\n",
    "    time.sleep(random.random() * 2)"
   ]
  }
 ],
 "metadata": {
  "kernelspec": {
   "display_name": "Python 3 (ipykernel)",
   "language": "python",
   "name": "python3"
  },
  "language_info": {
   "codemirror_mode": {
    "name": "ipython",
    "version": 3
   },
   "file_extension": ".py",
   "mimetype": "text/x-python",
   "name": "python",
   "nbconvert_exporter": "python",
   "pygments_lexer": "ipython3",
   "version": "3.12.9"
  }
 },
 "nbformat": 4,
 "nbformat_minor": 5
}

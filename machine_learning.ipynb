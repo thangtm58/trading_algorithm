{
 "cells": [
  {
   "cell_type": "code",
   "execution_count": 2,
   "id": "28dd47cd-73d9-4af3-9025-06cda459005a",
   "metadata": {},
   "outputs": [],
   "source": [
    "import numpy as np\n",
    "hours = np.array([0.5, 0.75, 1., 1.25, 1.5, 1.75, 1.75, 2.,\n",
    "                           2.25, 2.5, 2.75, 3., 3.25, 3.5, 4., 4.25,\n",
    "                           4.5, 4.75, 5., 5.5])"
   ]
  },
  {
   "cell_type": "code",
   "execution_count": 3,
   "id": "bf7d5cca-749c-447f-b3f7-0e6be1293973",
   "metadata": {},
   "outputs": [
    {
     "data": {
      "text/plain": [
       "array([[0.5 ],\n",
       "       [0.75],\n",
       "       [1.  ],\n",
       "       [1.25],\n",
       "       [1.5 ],\n",
       "       [1.75],\n",
       "       [1.75],\n",
       "       [2.  ],\n",
       "       [2.25],\n",
       "       [2.5 ],\n",
       "       [2.75],\n",
       "       [3.  ],\n",
       "       [3.25],\n",
       "       [3.5 ],\n",
       "       [4.  ],\n",
       "       [4.25],\n",
       "       [4.5 ],\n",
       "       [4.75],\n",
       "       [5.  ],\n",
       "       [5.5 ]])"
      ]
     },
     "execution_count": 3,
     "metadata": {},
     "output_type": "execute_result"
    }
   ],
   "source": [
    "hours.reshape(1, -1).T"
   ]
  },
  {
   "cell_type": "code",
   "execution_count": null,
   "id": "ba0fe2d0-be79-43f6-885c-77c2a7879be6",
   "metadata": {},
   "outputs": [],
   "source": []
  }
 ],
 "metadata": {
  "kernelspec": {
   "display_name": "Python 3 (ipykernel)",
   "language": "python",
   "name": "python3"
  },
  "language_info": {
   "codemirror_mode": {
    "name": "ipython",
    "version": 3
   },
   "file_extension": ".py",
   "mimetype": "text/x-python",
   "name": "python",
   "nbconvert_exporter": "python",
   "pygments_lexer": "ipython3",
   "version": "3.12.9"
  }
 },
 "nbformat": 4,
 "nbformat_minor": 5
}
